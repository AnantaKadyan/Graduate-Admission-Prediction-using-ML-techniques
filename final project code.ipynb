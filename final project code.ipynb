{
 "cells": [
  {
   "cell_type": "markdown",
   "metadata": {},
   "source": [
    "# Graduate Admissions Prediction - using Machine Learning"
   ]
  },
  {
   "cell_type": "markdown",
   "metadata": {},
   "source": [
    "BY: ANANTA (18CSU018)"
   ]
  },
  {
   "cell_type": "markdown",
   "metadata": {},
   "source": [
    "We are requested to predict the chances of admission in graduate schools for students depending on their GRE and TOEFL scores. \n",
    "Hence we use the Machine Learning Algorithms to make our predictions."
   ]
  },
  {
   "cell_type": "markdown",
   "metadata": {},
   "source": [
    "0. INDEX\n",
    "\n",
    "\n",
    "1. DATA DESCRIPTION\n",
    "\n",
    "\n",
    "2. DATA CLEANING\n",
    "\n",
    "\n",
    "3. DISCOVER AND VISUALIZE THE DATA TO GAIN INSIGHTS\n",
    "\n",
    "\n",
    "4. FEATURE SELECTION\n",
    "\n",
    "\n",
    "5. REGRESSION\n",
    "\n",
    "\n",
    "    5.1. Comparing models using MSE\n",
    "\n",
    "    5.2. Fine tuning of models\n",
    "\n",
    "    5.3. Comparison using Mean and standard distribution\n",
    "\n",
    "\n",
    "6. CLASSIFICATION\n",
    "\n",
    "\n",
    "    6.1. Hyperparameter tuning\n",
    "  \n",
    "    6.2. Voting Classifier\n",
    "\n",
    "    6.3. performance measure comparison\n",
    "\n",
    "\n",
    "7. FINAL ANALYSIS"
   ]
  },
  {
   "cell_type": "code",
   "execution_count": 1,
   "metadata": {},
   "outputs": [],
   "source": [
    "# Importing the libraries\n",
    "import numpy as np\n",
    "import matplotlib.pyplot as plt\n",
    "import pandas as pd\n",
    "import seaborn as sns"
   ]
  },
  {
   "cell_type": "code",
   "execution_count": 2,
   "metadata": {},
   "outputs": [],
   "source": [
    "# in order to ignore all the warnings and prevent confusion in the results and codes\n",
    "import warnings\n",
    "warnings.filterwarnings('ignore')"
   ]
  },
  {
   "cell_type": "markdown",
   "metadata": {},
   "source": [
    "# 1. DATA DESCRIPTION"
   ]
  },
  {
   "cell_type": "code",
   "execution_count": 3,
   "metadata": {},
   "outputs": [],
   "source": [
    "# Importing the dataset\n",
    "data = pd.read_csv('Admission_Predict.csv')"
   ]
  },
  {
   "cell_type": "code",
   "execution_count": 4,
   "metadata": {},
   "outputs": [
    {
     "data": {
      "text/html": [
       "<div>\n",
       "<style scoped>\n",
       "    .dataframe tbody tr th:only-of-type {\n",
       "        vertical-align: middle;\n",
       "    }\n",
       "\n",
       "    .dataframe tbody tr th {\n",
       "        vertical-align: top;\n",
       "    }\n",
       "\n",
       "    .dataframe thead th {\n",
       "        text-align: right;\n",
       "    }\n",
       "</style>\n",
       "<table border=\"1\" class=\"dataframe\">\n",
       "  <thead>\n",
       "    <tr style=\"text-align: right;\">\n",
       "      <th></th>\n",
       "      <th>Serial No.</th>\n",
       "      <th>GRE Score</th>\n",
       "      <th>TOEFL Score</th>\n",
       "      <th>University Rating</th>\n",
       "      <th>SOP</th>\n",
       "      <th>LOR</th>\n",
       "      <th>CGPA</th>\n",
       "      <th>Research</th>\n",
       "      <th>Chance of Admit</th>\n",
       "    </tr>\n",
       "  </thead>\n",
       "  <tbody>\n",
       "    <tr>\n",
       "      <th>0</th>\n",
       "      <td>1</td>\n",
       "      <td>337</td>\n",
       "      <td>118</td>\n",
       "      <td>4.0</td>\n",
       "      <td>4.5</td>\n",
       "      <td>4.5</td>\n",
       "      <td>9.65</td>\n",
       "      <td>1</td>\n",
       "      <td>0.92</td>\n",
       "    </tr>\n",
       "    <tr>\n",
       "      <th>1</th>\n",
       "      <td>2</td>\n",
       "      <td>324</td>\n",
       "      <td>107</td>\n",
       "      <td>4.0</td>\n",
       "      <td>4.0</td>\n",
       "      <td>4.5</td>\n",
       "      <td>8.87</td>\n",
       "      <td>1</td>\n",
       "      <td>0.76</td>\n",
       "    </tr>\n",
       "    <tr>\n",
       "      <th>2</th>\n",
       "      <td>3</td>\n",
       "      <td>316</td>\n",
       "      <td>104</td>\n",
       "      <td>3.0</td>\n",
       "      <td>3.0</td>\n",
       "      <td>3.5</td>\n",
       "      <td>8.00</td>\n",
       "      <td>1</td>\n",
       "      <td>0.72</td>\n",
       "    </tr>\n",
       "    <tr>\n",
       "      <th>3</th>\n",
       "      <td>4</td>\n",
       "      <td>322</td>\n",
       "      <td>110</td>\n",
       "      <td>3.0</td>\n",
       "      <td>3.5</td>\n",
       "      <td>2.5</td>\n",
       "      <td>8.67</td>\n",
       "      <td>1</td>\n",
       "      <td>0.80</td>\n",
       "    </tr>\n",
       "    <tr>\n",
       "      <th>4</th>\n",
       "      <td>5</td>\n",
       "      <td>314</td>\n",
       "      <td>103</td>\n",
       "      <td>2.0</td>\n",
       "      <td>2.0</td>\n",
       "      <td>3.0</td>\n",
       "      <td>8.21</td>\n",
       "      <td>0</td>\n",
       "      <td>0.65</td>\n",
       "    </tr>\n",
       "  </tbody>\n",
       "</table>\n",
       "</div>"
      ],
      "text/plain": [
       "   Serial No.  GRE Score  TOEFL Score  University Rating  SOP  LOR   CGPA  \\\n",
       "0           1        337          118                4.0  4.5   4.5  9.65   \n",
       "1           2        324          107                4.0  4.0   4.5  8.87   \n",
       "2           3        316          104                3.0  3.0   3.5  8.00   \n",
       "3           4        322          110                3.0  3.5   2.5  8.67   \n",
       "4           5        314          103                2.0  2.0   3.0  8.21   \n",
       "\n",
       "   Research  Chance of Admit   \n",
       "0         1              0.92  \n",
       "1         1              0.76  \n",
       "2         1              0.72  \n",
       "3         1              0.80  \n",
       "4         0              0.65  "
      ]
     },
     "execution_count": 4,
     "metadata": {},
     "output_type": "execute_result"
    }
   ],
   "source": [
    "data.head()"
   ]
  },
  {
   "cell_type": "code",
   "execution_count": 5,
   "metadata": {},
   "outputs": [
    {
     "name": "stdout",
     "output_type": "stream",
     "text": [
      "<class 'pandas.core.frame.DataFrame'>\n",
      "RangeIndex: 400 entries, 0 to 399\n",
      "Data columns (total 9 columns):\n",
      "Serial No.           400 non-null int64\n",
      "GRE Score            400 non-null int64\n",
      "TOEFL Score          400 non-null int64\n",
      "University Rating    388 non-null float64\n",
      "SOP                  400 non-null float64\n",
      "LOR                  400 non-null float64\n",
      "CGPA                 400 non-null float64\n",
      "Research             400 non-null int64\n",
      "Chance of Admit      400 non-null float64\n",
      "dtypes: float64(5), int64(4)\n",
      "memory usage: 28.2 KB\n"
     ]
    }
   ],
   "source": [
    "data.info()"
   ]
  },
  {
   "cell_type": "code",
   "execution_count": 6,
   "metadata": {},
   "outputs": [
    {
     "data": {
      "text/plain": [
       "(400, 9)"
      ]
     },
     "execution_count": 6,
     "metadata": {},
     "output_type": "execute_result"
    }
   ],
   "source": [
    "data.shape"
   ]
  },
  {
   "cell_type": "markdown",
   "metadata": {},
   "source": [
    "Our dataset contains 400 rows and 9 columns."
   ]
  },
  {
   "cell_type": "markdown",
   "metadata": {},
   "source": [
    "DATA DESCRIPTION"
   ]
  },
  {
   "cell_type": "markdown",
   "metadata": {},
   "source": [
    "1. GRE Score - the GRE score is very important for any student seeking admission in Grad school for various programs and                      courses. A \"good\" GRE score depends on the the programs you are considering. This column contains the GRE scores of the respective student.\n",
    "\n",
    "\n",
    "2. TOEFL Score - TOEFL is one of the most popular English proficiency exams accepted at American and Canadian universities and                  schools abroad. TOEFL tests the international students’ usage and understanding of English as it is spoken,                    written and heard in college and university surroundings.This column contains the TOEFL score for the student.\n",
    "\n",
    "\n",
    "3. University Rating - This column contains the university rating by using different parameters into consideration.\n",
    "\n",
    "\n",
    "4. SOP - contains the score for the Satatement of Purpose as required by the universities as the purpose for applying to particular courses.\n",
    "\n",
    "\n",
    "5. LOR - contains the scores for the Letter of Recommendation which acts as a pivotal factor in your application. It helps the university admissions committee to evaluate you as a person – in terms of character, conduct, behavior and interpersonal skills.\n",
    "\n",
    "\n",
    "6. CGPA - contains the CPGA score for the undergraduate school you have attended before.\n",
    "\n",
    "\n",
    "7. Research - contains the values 0 and 1 depicting the student engaged in any research project or not .\n",
    "\n",
    "\n",
    "8. Chances of Admit - contains the values for probability of the admission of student in the university based on all the scores involved.\n"
   ]
  },
  {
   "cell_type": "code",
   "execution_count": 7,
   "metadata": {},
   "outputs": [
    {
     "data": {
      "text/html": [
       "<div>\n",
       "<style scoped>\n",
       "    .dataframe tbody tr th:only-of-type {\n",
       "        vertical-align: middle;\n",
       "    }\n",
       "\n",
       "    .dataframe tbody tr th {\n",
       "        vertical-align: top;\n",
       "    }\n",
       "\n",
       "    .dataframe thead th {\n",
       "        text-align: right;\n",
       "    }\n",
       "</style>\n",
       "<table border=\"1\" class=\"dataframe\">\n",
       "  <thead>\n",
       "    <tr style=\"text-align: right;\">\n",
       "      <th></th>\n",
       "      <th>Serial No.</th>\n",
       "      <th>GRE Score</th>\n",
       "      <th>TOEFL Score</th>\n",
       "      <th>University Rating</th>\n",
       "      <th>SOP</th>\n",
       "      <th>LOR</th>\n",
       "      <th>CGPA</th>\n",
       "      <th>Research</th>\n",
       "      <th>Chance of Admit</th>\n",
       "    </tr>\n",
       "  </thead>\n",
       "  <tbody>\n",
       "    <tr>\n",
       "      <th>count</th>\n",
       "      <td>400.000000</td>\n",
       "      <td>400.000000</td>\n",
       "      <td>400.000000</td>\n",
       "      <td>388.000000</td>\n",
       "      <td>400.000000</td>\n",
       "      <td>400.000000</td>\n",
       "      <td>400.000000</td>\n",
       "      <td>400.000000</td>\n",
       "      <td>400.000000</td>\n",
       "    </tr>\n",
       "    <tr>\n",
       "      <th>mean</th>\n",
       "      <td>200.500000</td>\n",
       "      <td>316.807500</td>\n",
       "      <td>107.410000</td>\n",
       "      <td>3.074742</td>\n",
       "      <td>3.400000</td>\n",
       "      <td>3.452500</td>\n",
       "      <td>8.598925</td>\n",
       "      <td>0.547500</td>\n",
       "      <td>0.724350</td>\n",
       "    </tr>\n",
       "    <tr>\n",
       "      <th>std</th>\n",
       "      <td>115.614301</td>\n",
       "      <td>11.473646</td>\n",
       "      <td>6.069514</td>\n",
       "      <td>1.139872</td>\n",
       "      <td>1.006869</td>\n",
       "      <td>0.898478</td>\n",
       "      <td>0.596317</td>\n",
       "      <td>0.498362</td>\n",
       "      <td>0.142609</td>\n",
       "    </tr>\n",
       "    <tr>\n",
       "      <th>min</th>\n",
       "      <td>1.000000</td>\n",
       "      <td>290.000000</td>\n",
       "      <td>92.000000</td>\n",
       "      <td>1.000000</td>\n",
       "      <td>1.000000</td>\n",
       "      <td>1.000000</td>\n",
       "      <td>6.800000</td>\n",
       "      <td>0.000000</td>\n",
       "      <td>0.340000</td>\n",
       "    </tr>\n",
       "    <tr>\n",
       "      <th>25%</th>\n",
       "      <td>100.750000</td>\n",
       "      <td>308.000000</td>\n",
       "      <td>103.000000</td>\n",
       "      <td>2.000000</td>\n",
       "      <td>2.500000</td>\n",
       "      <td>3.000000</td>\n",
       "      <td>8.170000</td>\n",
       "      <td>0.000000</td>\n",
       "      <td>0.640000</td>\n",
       "    </tr>\n",
       "    <tr>\n",
       "      <th>50%</th>\n",
       "      <td>200.500000</td>\n",
       "      <td>317.000000</td>\n",
       "      <td>107.000000</td>\n",
       "      <td>3.000000</td>\n",
       "      <td>3.500000</td>\n",
       "      <td>3.500000</td>\n",
       "      <td>8.610000</td>\n",
       "      <td>1.000000</td>\n",
       "      <td>0.730000</td>\n",
       "    </tr>\n",
       "    <tr>\n",
       "      <th>75%</th>\n",
       "      <td>300.250000</td>\n",
       "      <td>325.000000</td>\n",
       "      <td>112.000000</td>\n",
       "      <td>4.000000</td>\n",
       "      <td>4.000000</td>\n",
       "      <td>4.000000</td>\n",
       "      <td>9.062500</td>\n",
       "      <td>1.000000</td>\n",
       "      <td>0.830000</td>\n",
       "    </tr>\n",
       "    <tr>\n",
       "      <th>max</th>\n",
       "      <td>400.000000</td>\n",
       "      <td>340.000000</td>\n",
       "      <td>120.000000</td>\n",
       "      <td>5.000000</td>\n",
       "      <td>5.000000</td>\n",
       "      <td>5.000000</td>\n",
       "      <td>9.920000</td>\n",
       "      <td>1.000000</td>\n",
       "      <td>0.970000</td>\n",
       "    </tr>\n",
       "  </tbody>\n",
       "</table>\n",
       "</div>"
      ],
      "text/plain": [
       "       Serial No.   GRE Score  TOEFL Score  University Rating         SOP  \\\n",
       "count  400.000000  400.000000   400.000000         388.000000  400.000000   \n",
       "mean   200.500000  316.807500   107.410000           3.074742    3.400000   \n",
       "std    115.614301   11.473646     6.069514           1.139872    1.006869   \n",
       "min      1.000000  290.000000    92.000000           1.000000    1.000000   \n",
       "25%    100.750000  308.000000   103.000000           2.000000    2.500000   \n",
       "50%    200.500000  317.000000   107.000000           3.000000    3.500000   \n",
       "75%    300.250000  325.000000   112.000000           4.000000    4.000000   \n",
       "max    400.000000  340.000000   120.000000           5.000000    5.000000   \n",
       "\n",
       "             LOR         CGPA    Research  Chance of Admit   \n",
       "count  400.000000  400.000000  400.000000        400.000000  \n",
       "mean     3.452500    8.598925    0.547500          0.724350  \n",
       "std      0.898478    0.596317    0.498362          0.142609  \n",
       "min      1.000000    6.800000    0.000000          0.340000  \n",
       "25%      3.000000    8.170000    0.000000          0.640000  \n",
       "50%      3.500000    8.610000    1.000000          0.730000  \n",
       "75%      4.000000    9.062500    1.000000          0.830000  \n",
       "max      5.000000    9.920000    1.000000          0.970000  "
      ]
     },
     "execution_count": 7,
     "metadata": {},
     "output_type": "execute_result"
    }
   ],
   "source": [
    "data.describe()"
   ]
  },
  {
   "cell_type": "code",
   "execution_count": 8,
   "metadata": {},
   "outputs": [
    {
     "data": {
      "text/plain": [
       "1    219\n",
       "0    181\n",
       "Name: Research, dtype: int64"
      ]
     },
     "execution_count": 8,
     "metadata": {},
     "output_type": "execute_result"
    }
   ],
   "source": [
    "data[\"Research\"].value_counts()"
   ]
  },
  {
   "cell_type": "markdown",
   "metadata": {},
   "source": [
    "219 students have participated in research activites while 181 have not."
   ]
  },
  {
   "cell_type": "code",
   "execution_count": 52,
   "metadata": {},
   "outputs": [
    {
     "data": {
      "image/png": "[encoded data removed]",
      "text/plain": [
       "<Figure size 1440x1080 with 9 Axes>"
      ]
     },
     "metadata": {
      "needs_background": "light"
     },
     "output_type": "display_data"
    }
   ],
   "source": [
    "sns.set_palette(\"Dark2\")\n",
    "\n",
    "%matplotlib inline\n",
    "import matplotlib.pyplot as plt\n",
    "data.hist(bins=50, figsize=(20,15));"
   ]
  },
  {
   "cell_type": "markdown",
   "metadata": {},
   "source": [
    "These plots give us the frequency for each parameter value as in our dataset, to help analyse the dataset and the results better."
   ]
  },
  {
   "cell_type": "markdown",
   "metadata": {},
   "source": [
    "# 2. Data Cleaning"
   ]
  },
  {
   "cell_type": "markdown",
   "metadata": {},
   "source": [
    "Data preprocessing is an integral step in Machine Learning as the quality of data and the useful information that can be derived from it directly affects the ability of our model to learn; therefore, it is extremely important that we preprocess our data before feeding it into our model."
   ]
  },
  {
   "cell_type": "code",
   "execution_count": 52,
   "metadata": {},
   "outputs": [
    {
     "data": {
      "text/plain": [
       "<matplotlib.axes._subplots.AxesSubplot at 0x21d3b34c748>"
      ]
     },
     "execution_count": 52,
     "metadata": {},
     "output_type": "execute_result"
    },
    {
     "data": {
      "image/png": "[encoded data removed]",
      "text/plain": [
       "<Figure size 432x288 with 1 Axes>"
      ]
     },
     "metadata": {
      "needs_background": "light"
     },
     "output_type": "display_data"
    }
   ],
   "source": [
    "sns.heatmap(data.isnull(),yticklabels=False,cbar=False,cmap='viridis')"
   ]
  },
  {
   "cell_type": "markdown",
   "metadata": {},
   "source": [
    "The yellow lines in this heatmap represent the presence of missing values in our attribute 'University Rating'. since these are Discreet data values we have replaced them with the Median of the data column and obtain a dataset without any further missing values."
   ]
  },
  {
   "cell_type": "code",
   "execution_count": 53,
   "metadata": {},
   "outputs": [],
   "source": [
    "median=data.iloc[:, 3].median()\n",
    "data.iloc[:, 3].fillna(median, inplace=True)"
   ]
  },
  {
   "cell_type": "code",
   "execution_count": 54,
   "metadata": {},
   "outputs": [
    {
     "data": {
      "text/plain": [
       "<matplotlib.axes._subplots.AxesSubplot at 0x21d3b3e2be0>"
      ]
     },
     "execution_count": 54,
     "metadata": {},
     "output_type": "execute_result"
    },
    {
     "data": {
      "image/png": "[encoded data removed]",
      "text/plain": [
       "<Figure size 432x288 with 1 Axes>"
      ]
     },
     "metadata": {
      "needs_background": "light"
     },
     "output_type": "display_data"
    }
   ],
   "source": [
    "sns.heatmap(data.isnull(),yticklabels=False,cbar=False,cmap='viridis')"
   ]
  },
  {
   "cell_type": "markdown",
   "metadata": {},
   "source": [
    "REMOVAL OF OUTLIERS"
   ]
  },
  {
   "cell_type": "markdown",
   "metadata": {},
   "source": [
    "Outliers presence in our dataset can greatly effect the performance of our data if they are many in number. Hence, we have removed the outliers from my dataset which were lying outside the interquartile range of 1.5 times. After removal out of the previous 400 rows only 396 remain."
   ]
  },
  {
   "cell_type": "code",
   "execution_count": 56,
   "metadata": {},
   "outputs": [
    {
     "data": {
      "text/plain": [
       "(396, 9)"
      ]
     },
     "execution_count": 56,
     "metadata": {},
     "output_type": "execute_result"
    }
   ],
   "source": [
    "Q1 = data.quantile(0.25)\n",
    "Q3 = data.quantile(0.75)\n",
    "IQR = Q3 - Q1\n",
    "\n",
    "data = data[~((data < (Q1 - 1.5 * IQR)) |(data > (Q3 + 1.5 * IQR))).any(axis=1)]\n",
    "data.shape"
   ]
  },
  {
   "cell_type": "markdown",
   "metadata": {},
   "source": [
    "\n",
    "# 3. Discover and visualize the data to gain insights"
   ]
  },
  {
   "cell_type": "markdown",
   "metadata": {},
   "source": [
    "Till now you have taken a quick glance at the data to get general understanding of the kind of data. The goal is to go in depth. Since it is a geographical data it is a good idea to create scatterplot of all districts to visualize the data"
   ]
  },
  {
   "cell_type": "code",
   "execution_count": 57,
   "metadata": {},
   "outputs": [
    {
     "name": "stdout",
     "output_type": "stream",
     "text": [
      " GENERAL ANALYSIS OF DATA VALUES - \n",
      "\n",
      "Average GRE Score :          316.99 out of 340\n",
      "Average TOEFL Score:         107.52 out of 120\n",
      "Average CGPA:                8.61 out of 10\n",
      "Average Chance of admission: 72.80%\n"
     ]
    }
   ],
   "source": [
    "print(\" GENERAL ANALYSIS OF DATA VALUES - \\n\")\n",
    "\n",
    "print(\"Average GRE Score :          {0:.2f} out of 340\".format(data['GRE Score'].mean()))\n",
    "print('Average TOEFL Score:         {0:.2f} out of 120'.format(data['TOEFL Score'].mean()))\n",
    "print('Average CGPA:                {0:.2f} out of 10'.format(data['CGPA'].mean()))\n",
    "print('Average Chance of admission: {0:.2f}%'.format(data['Chance of Admit '].mean()*100))"
   ]
  },
  {
   "cell_type": "code",
   "execution_count": 58,
   "metadata": {},
   "outputs": [
    {
     "data": {
      "image/png": "[encoded data removed]",
      "text/plain": [
       "<Figure size 432x432 with 2 Axes>"
      ]
     },
     "metadata": {
      "needs_background": "light"
     },
     "output_type": "display_data"
    }
   ],
   "source": [
    "plt.figure(figsize=(6,6))\n",
    "plt.subplot(2, 1, 1)\n",
    "sns.distplot(data['GRE Score'],bins=12,color='Red');\n",
    "plt.subplot(2, 1, 2)\n",
    "sns.distplot(data['TOEFL Score'],bins=12,color='Green');"
   ]
  },
  {
   "cell_type": "markdown",
   "metadata": {},
   "source": [
    "A distribution plot for GRE and TOEFL scores represents that more people tend to score between 310 - 325 in GRE and100 - 115 in TOEFL. It helps us to know the general trend of marks followed by Indian Students in these Exams."
   ]
  },
  {
   "cell_type": "code",
   "execution_count": 59,
   "metadata": {},
   "outputs": [
    {
     "data": {
      "text/plain": [
       "<matplotlib.axes._subplots.AxesSubplot at 0x1b9c456d400>"
      ]
     },
     "execution_count": 59,
     "metadata": {},
     "output_type": "execute_result"
    },
    {
     "data": {
      "image/png": "[encoded data removed]",
      "text/plain": [
       "<Figure size 432x288 with 1 Axes>"
      ]
     },
     "metadata": {},
     "output_type": "display_data"
    }
   ],
   "source": [
    "sns.set_palette(\"RdBu\")\n",
    "data['Research'].value_counts().plot.pie(autopct='%1.1f%%' )"
   ]
  },
  {
   "cell_type": "markdown",
   "metadata": {},
   "source": [
    "The Pie chart explains the Research pattern of the students who have applied for graduate admissions. As observed the distribution of those who contributed in Research and those who didn't are almost around the getting 54.8% and 45.2% respectively."
   ]
  },
  {
   "cell_type": "code",
   "execution_count": 60,
   "metadata": {},
   "outputs": [
    {
     "data": {
      "text/plain": [
       "Text(0, 0.5, 'GRE Score ')"
      ]
     },
     "execution_count": 60,
     "metadata": {},
     "output_type": "execute_result"
    },
    {
     "data": {
      "image/png": "[encoded data removed]",
      "text/plain": [
       "<Figure size 432x288 with 1 Axes>"
      ]
     },
     "metadata": {
      "needs_background": "light"
     },
     "output_type": "display_data"
    }
   ],
   "source": [
    "sns.set_palette(\"Set2\")\n",
    "\n",
    "plt.scatter(data[\"TOEFL Score\"] , data[\"GRE Score\"]);\n",
    "plt.title(\" Comparison between GRE score and TOEFL score\")\n",
    "plt.xlabel(\"TOEFL Score\")\n",
    "plt.ylabel(\"GRE Score \" )"
   ]
  },
  {
   "cell_type": "markdown",
   "metadata": {},
   "source": [
    "The Scatter plot depicts a strong correlation between GRE score and TOEFL score hence giving the analyses that the students who have scored better in GRE also tend to score well in TOEFL exam."
   ]
  },
  {
   "cell_type": "code",
   "execution_count": 61,
   "metadata": {},
   "outputs": [
    {
     "data": {
      "text/plain": [
       "<matplotlib.axes._subplots.AxesSubplot at 0x1b9c3df4f28>"
      ]
     },
     "execution_count": 61,
     "metadata": {},
     "output_type": "execute_result"
    },
    {
     "data": {
      "image/png": "[encoded data removed]",
      "text/plain": [
       "<Figure size 432x288 with 1 Axes>"
      ]
     },
     "metadata": {
      "needs_background": "light"
     },
     "output_type": "display_data"
    }
   ],
   "source": [
    "sns.set_palette(\"Set1\")\n",
    "\n",
    "sns.boxplot(x=\"Research\", y=\"CGPA\", data=data)"
   ]
  },
  {
   "cell_type": "markdown",
   "metadata": {},
   "source": [
    "Box plot between Research and CGPA shows that the students who took up research were noticed to have higher CGPA values than those who did not do any research. The five point summary also denotes the presence of single outlier in both cases and depicting the median of CGPA being hogher in case of research students."
   ]
  },
  {
   "cell_type": "code",
   "execution_count": 62,
   "metadata": {},
   "outputs": [
    {
     "data": {
      "image/png": "[encoded data removed]",
      "text/plain": [
       "<Figure size 432x288 with 1 Axes>"
      ]
     },
     "metadata": {
      "needs_background": "light"
     },
     "output_type": "display_data"
    }
   ],
   "source": [
    "sns.set_palette(\"Set2\")\n",
    "sns.scatterplot(data[\"CGPA\"] , data[\"University Rating\"] , hue = data[\"Research\"]);"
   ]
  },
  {
   "cell_type": "markdown",
   "metadata": {},
   "source": [
    "The Scatter plot for CGPA and the University's ranking in which the students have applied shows that the students with higher CGPA, more than 8.5 have applied to the universities with a higher rating. As can be seen the universities with rating 4 and 5 have students with a CGPA greater than 8.5.\n",
    "\n",
    "Also using the Hue as Research we see that the students with higher CGPA and those who applied to higher university ratings contain a majority of students have done Research while those who applied to universities with lower rating didn't do Research."
   ]
  },
  {
   "cell_type": "markdown",
   "metadata": {},
   "source": [
    "CORRELATION --"
   ]
  },
  {
   "cell_type": "markdown",
   "metadata": {},
   "source": [
    "A correlation between variables indicates that as one variable changes in value, the other variable tends to change in a specific direction.  Understanding that relationship is useful because we can use the value of one variable to predict the value of the other variable. \n",
    "\n",
    "The term \"correlation\" refers to a mutual relationship or association between quantities. A correlation exists between the parameters if the correlation coefficient value is near 1 and does not exist if the value is around 0. It’s positive in case of values near +1 and negative for those near -1."
   ]
  },
  {
   "cell_type": "code",
   "execution_count": 63,
   "metadata": {},
   "outputs": [
    {
     "data": {
      "image/png": "[encoded data removed]",
      "text/plain": [
       "<Figure size 576x576 with 2 Axes>"
      ]
     },
     "metadata": {
      "needs_background": "light"
     },
     "output_type": "display_data"
    }
   ],
   "source": [
    "corr = data.corr()\n",
    "fig, ax = plt.subplots(figsize=(8, 8))\n",
    "colormap = sns.diverging_palette(220, 10, as_cmap=True)\n",
    "dropSelf = np.zeros_like(corr)\n",
    "dropSelf[np.triu_indices_from(dropSelf)] = True\n",
    "colormap = sns.diverging_palette(220, 10, as_cmap=True)\n",
    "sns.heatmap(corr, cmap=colormap, linewidths=.5, annot=True, fmt=\".2f\", mask=dropSelf)\n",
    "plt.show()"
   ]
  },
  {
   "cell_type": "markdown",
   "metadata": {},
   "source": [
    "# 4. Feature Selection"
   ]
  },
  {
   "cell_type": "markdown",
   "metadata": {},
   "source": [
    "Feature Selection is the process where you automatically or manually select those features which contribute most to your prediction variable or output in which you are interested in.\n",
    "Having irrelevant features in your data can decrease the accuracy of the models and make your model learn based on irrelevant features."
   ]
  },
  {
   "cell_type": "code",
   "execution_count": 48,
   "metadata": {},
   "outputs": [
    {
     "name": "stdout",
     "output_type": "stream",
     "text": [
      "              Specs      Score\n",
      "0         GRE Score  55.849738\n",
      "1       TOEFL Score  32.837957\n",
      "2               SOP  23.456430\n",
      "3              LOR   14.693549\n",
      "4              CGPA   4.490025\n",
      "5  Chance of Admit    3.428373\n"
     ]
    }
   ],
   "source": [
    "import pandas as pd\n",
    "import numpy as np\n",
    "from sklearn.feature_selection import SelectKBest\n",
    "from sklearn.feature_selection import chi2\n",
    "\n",
    "X = data.iloc[:,[1,2,4,5,6,8]] # independent column\n",
    "Y = data.iloc[:,7] # target column i.e. class\n",
    "\n",
    "\n",
    "#apply selectkbest to select 6 features\n",
    "bestfeatures = SelectKBest(score_func = chi2,k=6)\n",
    "fit = bestfeatures.fit(X,Y)\n",
    "\n",
    "dfscores = pd.DataFrame(fit.scores_)\n",
    "dfcolumns = pd.DataFrame(X.columns)\n",
    "\n",
    "featureScores=pd.concat([dfcolumns,dfscores],axis=1)\n",
    "featureScores.columns=['Specs','Score']\n",
    "#print the 6 best feature scores\n",
    "print(featureScores.nlargest(6,'Score'))"
   ]
  },
  {
   "cell_type": "markdown",
   "metadata": {},
   "source": [
    "We see the 6 features being displayed corresponding to their scores as calculated by selectKbest and we get the top 5 features which are then used in our ML models."
   ]
  },
  {
   "cell_type": "markdown",
   "metadata": {},
   "source": [
    "# 5. Regression -  Machine Learning Algorithms"
   ]
  },
  {
   "cell_type": "markdown",
   "metadata": {},
   "source": [
    "1. LINEAR REGRESSION"
   ]
  },
  {
   "cell_type": "code",
   "execution_count": 82,
   "metadata": {},
   "outputs": [],
   "source": [
    "# we give the X and Y variables as the \n",
    "# cgpa and chance of admit\n",
    "X = pd.DataFrame(data.iloc[:,6])\n",
    "Y = pd.DataFrame(data.iloc[:,8])\n",
    "\n",
    "# splitting the dataset into train and test\n",
    "from sklearn.model_selection import train_test_split\n",
    "X_train , X_test , Y_train , Y_test = train_test_split(X,Y,test_size = 0.25)"
   ]
  },
  {
   "cell_type": "code",
   "execution_count": 83,
   "metadata": {},
   "outputs": [
    {
     "name": "stdout",
     "output_type": "stream",
     "text": [
      "Coefficients\n",
      " [[0.20955469]]\n",
      "Intercept\n",
      " [-1.07660171]\n"
     ]
    }
   ],
   "source": [
    "# model making using the training dataset\n",
    "from sklearn.linear_model import LinearRegression\n",
    "lin_regressor = LinearRegression()\n",
    "lin_regressor.fit(X_train , Y_train)\n",
    "\n",
    "print('Coefficients\\n',lin_regressor.coef_)\n",
    "\n",
    "print('Intercept\\n',lin_regressor.intercept_)\n",
    "\n",
    "# predicting results using the test dataset\n",
    "Y_pred = lin_regressor.predict(X_test)\n",
    "\n",
    "from sklearn.metrics import mean_squared_error , r2_score\n",
    "\n"
   ]
  },
  {
   "cell_type": "markdown",
   "metadata": {},
   "source": [
    "For Linear Regression we have taken the parameters CGPA and Chance of Admit and using the CGPA values we are trying to predict the chances of admission for a student. we get the R2 score as 70% which is good enough for our model."
   ]
  },
  {
   "cell_type": "code",
   "execution_count": 84,
   "metadata": {},
   "outputs": [
    {
     "name": "stdout",
     "output_type": "stream",
     "text": [
      " Mean Squared error :  0.005308219713752314\n",
      " Root Mean Squared error :  0.07285753024741035\n",
      "R2 score :0.7093196017060803\n"
     ]
    }
   ],
   "source": [
    "from sklearn.metrics import mean_squared_error\n",
    "lin_mse = mean_squared_error(Y_test, Y_pred)\n",
    "print(\" Mean Squared error : \",lin_mse)\n",
    "lin_rmse = np.sqrt(lin_mse)\n",
    "print(\" Root Mean Squared error : \",lin_rmse)\n",
    "r2_lin = r2_score(Y_test,Y_pred)\n",
    "\n",
    "# R2 score helps us to find the performance of our model\n",
    "print(\"R2 score :{}\".format(r2_score(Y_test,Y_pred)))"
   ]
  },
  {
   "cell_type": "markdown",
   "metadata": {},
   "source": [
    "2. MULTIPLE LINEAR REGRESSION"
   ]
  },
  {
   "cell_type": "code",
   "execution_count": 96,
   "metadata": {},
   "outputs": [],
   "source": [
    "X = pd.DataFrame(data.iloc[:,[1,2,4,5,6]])\n",
    "Y = pd.DataFrame(data.iloc[:,8])\n",
    "\n",
    "# splitting the dataset into train and test\n",
    "from sklearn.model_selection import train_test_split\n",
    "X_train , X_test , Y_train , Y_test = train_test_split(X,Y,test_size = 0.25, random_state = 42)"
   ]
  },
  {
   "cell_type": "markdown",
   "metadata": {},
   "source": [
    "In case of Multiple Linear Regression we take the Independent variable as 'GRE Score, TOEFL Score, SOP, LOR and CGPA' while the Dependent variable contains the Chances of Admit. The test train split has a ratio of 75 : 25.\n",
    "\n",
    "Checking the Assumptions for Regression =>"
   ]
  },
  {
   "cell_type": "markdown",
   "metadata": {},
   "source": [
    "(a.) Multicolinearity"
   ]
  },
  {
   "cell_type": "code",
   "execution_count": 97,
   "metadata": {},
   "outputs": [],
   "source": [
    "cr = data.corr()"
   ]
  },
  {
   "cell_type": "markdown",
   "metadata": {},
   "source": [
    "For detecting Multicolinearity we see that the correlation between any 2 independent attributes must not be greater than 90% and this is checked by the heatmap as presented.\n",
    "\n",
    "Herein no correlation value is greater than 90% hence we move ahead."
   ]
  },
  {
   "cell_type": "markdown",
   "metadata": {},
   "source": [
    "(b.) Linearity condition"
   ]
  },
  {
   "cell_type": "code",
   "execution_count": 98,
   "metadata": {},
   "outputs": [
    {
     "data": {
      "image/png": "[encoded data removed]",
      "text/plain": [
       "<Figure size 1080x1080 with 42 Axes>"
      ]
     },
     "metadata": {
      "needs_background": "light"
     },
     "output_type": "display_data"
    }
   ],
   "source": [
    "# Check for Linearity visually\n",
    "sns.set_palette(\"Dark2\")\n",
    "linearity_assumption_plot_1 = sns.pairplot(pd.DataFrame(X), kind=\"reg\")"
   ]
  },
  {
   "cell_type": "markdown",
   "metadata": {},
   "source": [
    "Checking for linearity assumption (dataset should be large)\n",
    "This assumption implies that there should be a linear relationship between the\n",
    "response variable and the predictors.\n",
    "The data can be explained by the linear equation y = c + m1x1 + m2x2 + ... + mkxk \n",
    "\n",
    "Checking the linearity assumption requires plotting of predictor \n",
    "versus response variables. This is fairly easy for simple linear\n",
    "regression but in multiple linear regression with large number of predictor\n",
    "variables, we can use standardised residual plot against each one of the\n",
    "predictor variables. The ideal plot of residuals with each of the predictor\n",
    "should be a random scatter because we assume that the residuals are \n",
    "uncorrelated with the predictor variables. Any noticeable pattern in such\n",
    "plots indicates violation of linear relationship assumption."
   ]
  },
  {
   "cell_type": "markdown",
   "metadata": {},
   "source": [
    "(c.) Endogenity"
   ]
  },
  {
   "cell_type": "code",
   "execution_count": 99,
   "metadata": {},
   "outputs": [
    {
     "data": {
      "text/html": [
       "<div>\n",
       "<style scoped>\n",
       "    .dataframe tbody tr th:only-of-type {\n",
       "        vertical-align: middle;\n",
       "    }\n",
       "\n",
       "    .dataframe tbody tr th {\n",
       "        vertical-align: top;\n",
       "    }\n",
       "\n",
       "    .dataframe thead th {\n",
       "        text-align: right;\n",
       "    }\n",
       "</style>\n",
       "<table border=\"1\" class=\"dataframe\">\n",
       "  <thead>\n",
       "    <tr style=\"text-align: right;\">\n",
       "      <th></th>\n",
       "      <th>GRE Score</th>\n",
       "      <th>TOEFL Score</th>\n",
       "      <th>University Rating</th>\n",
       "      <th>SOP</th>\n",
       "      <th>LOR</th>\n",
       "      <th>CGPA</th>\n",
       "    </tr>\n",
       "  </thead>\n",
       "  <tbody>\n",
       "    <tr>\n",
       "      <th>GRE Score</th>\n",
       "      <td>1.000000</td>\n",
       "      <td>0.802337</td>\n",
       "      <td>0.683099</td>\n",
       "      <td>0.555580</td>\n",
       "      <td>0.487850</td>\n",
       "      <td>0.851893</td>\n",
       "    </tr>\n",
       "    <tr>\n",
       "      <th>TOEFL Score</th>\n",
       "      <td>0.802337</td>\n",
       "      <td>1.000000</td>\n",
       "      <td>0.658065</td>\n",
       "      <td>0.684036</td>\n",
       "      <td>0.572472</td>\n",
       "      <td>0.827694</td>\n",
       "    </tr>\n",
       "    <tr>\n",
       "      <th>University Rating</th>\n",
       "      <td>0.683099</td>\n",
       "      <td>0.658065</td>\n",
       "      <td>1.000000</td>\n",
       "      <td>0.706705</td>\n",
       "      <td>0.607297</td>\n",
       "      <td>0.771708</td>\n",
       "    </tr>\n",
       "    <tr>\n",
       "      <th>SOP</th>\n",
       "      <td>0.555580</td>\n",
       "      <td>0.684036</td>\n",
       "      <td>0.706705</td>\n",
       "      <td>1.000000</td>\n",
       "      <td>0.740192</td>\n",
       "      <td>0.716241</td>\n",
       "    </tr>\n",
       "    <tr>\n",
       "      <th>LOR</th>\n",
       "      <td>0.487850</td>\n",
       "      <td>0.572472</td>\n",
       "      <td>0.607297</td>\n",
       "      <td>0.740192</td>\n",
       "      <td>1.000000</td>\n",
       "      <td>0.608027</td>\n",
       "    </tr>\n",
       "    <tr>\n",
       "      <th>CGPA</th>\n",
       "      <td>0.851893</td>\n",
       "      <td>0.827694</td>\n",
       "      <td>0.771708</td>\n",
       "      <td>0.716241</td>\n",
       "      <td>0.608027</td>\n",
       "      <td>1.000000</td>\n",
       "    </tr>\n",
       "  </tbody>\n",
       "</table>\n",
       "</div>"
      ],
      "text/plain": [
       "                   GRE Score  TOEFL Score  University Rating       SOP  \\\n",
       "GRE Score           1.000000     0.802337           0.683099  0.555580   \n",
       "TOEFL Score         0.802337     1.000000           0.658065  0.684036   \n",
       "University Rating   0.683099     0.658065           1.000000  0.706705   \n",
       "SOP                 0.555580     0.684036           0.706705  1.000000   \n",
       "LOR                 0.487850     0.572472           0.607297  0.740192   \n",
       "CGPA                0.851893     0.827694           0.771708  0.716241   \n",
       "\n",
       "                       LOR       CGPA  \n",
       "GRE Score          0.487850  0.851893  \n",
       "TOEFL Score        0.572472  0.827694  \n",
       "University Rating  0.607297  0.771708  \n",
       "SOP                0.740192  0.716241  \n",
       "LOR                1.000000  0.608027  \n",
       "CGPA               0.608027  1.000000  "
      ]
     },
     "execution_count": 99,
     "metadata": {},
     "output_type": "execute_result"
    }
   ],
   "source": [
    "linearity_test_df = pd.DataFrame(X_test)\n",
    "\n",
    "endogenity_check = linearity_test_df.corr()\n",
    "endogenity_check"
   ]
  },
  {
   "cell_type": "markdown",
   "metadata": {},
   "source": [
    "Residuals should not be highly\n",
    "coorelated with other predictors.The errors (difference between the observed and predicted values) is coorelated \n",
    "with our independent values.This is a problem referred to as omitted variable bias - when we forget to\n",
    "include a relevant variable. Everything that we dont explain with our model goes into the error - so the \n",
    "error becomes coorelated with everything else\n",
    "\n",
    "Herein we Create a dataframe of difference of observed and predicted and other \n",
    "variables and check correlation."
   ]
  },
  {
   "cell_type": "markdown",
   "metadata": {},
   "source": [
    "(d.) Homoscedasticity"
   ]
  },
  {
   "cell_type": "code",
   "execution_count": 100,
   "metadata": {},
   "outputs": [
    {
     "data": {
      "text/plain": [
       "<seaborn.axisgrid.JointGrid at 0x1b9c3ba6b70>"
      ]
     },
     "execution_count": 100,
     "metadata": {},
     "output_type": "execute_result"
    },
    {
     "data": {
      "image/png": "[encoded data removed]",
      "text/plain": [
       "<Figure size 432x432 with 3 Axes>"
      ]
     },
     "metadata": {
      "needs_background": "light"
     },
     "output_type": "display_data"
    }
   ],
   "source": [
    "residual_test = np.column_stack([Y_test,Y_pred])\n",
    "residual_test = pd.DataFrame(residual_test)\n",
    "residual_test.columns='Y_test predictions'.split()\n",
    "sns.jointplot(x='Y_test', y='predictions', data=residual_test, kind='reg')"
   ]
  },
  {
   "cell_type": "markdown",
   "metadata": {},
   "source": [
    "Assumes the error terms have equal variance. \n",
    "An example of a dataset where errors have a different variance looks like a \n",
    "cone around the regression line.This means that with smaller values we get a better\n",
    "prediction than with larger values. "
   ]
  },
  {
   "cell_type": "markdown",
   "metadata": {},
   "source": [
    "After checking our assumptions we find the R2 score and Mean square error for Multiple Linear Regression."
   ]
  },
  {
   "cell_type": "code",
   "execution_count": 101,
   "metadata": {},
   "outputs": [
    {
     "name": "stdout",
     "output_type": "stream",
     "text": [
      "Coefficients\n",
      " [[ 0.00262552  0.00252073  0.00570461 -0.00328187  0.02350706  0.11274448]]\n",
      "Intercept\n",
      " [-1.43699901]\n",
      "R2 score :0.8503367533918753\n"
     ]
    }
   ],
   "source": [
    "# model making using the training dataset\n",
    "from sklearn.linear_model import LinearRegression\n",
    "regressor = LinearRegression()\n",
    "regressor.fit(X_train , Y_train)\n",
    "\n",
    "print('Coefficients\\n',regressor.coef_)\n",
    "\n",
    "print('Intercept\\n',regressor.intercept_)\n",
    "\n",
    "# predicting results using the test dataset\n",
    "Y_pred = regressor.predict(X_test)\n",
    "\n",
    "from sklearn.metrics import mean_squared_error , r2_score\n",
    "\n",
    "# R2 score helps us to find the performance of our model\n",
    "print(\"R2 score :{}\".format(r2_score(Y_test,Y_pred)))\n",
    "r2_mul = r2_score(Y_test,Y_pred)"
   ]
  },
  {
   "cell_type": "markdown",
   "metadata": {},
   "source": [
    "Here we have taken multiple independent variables which are GRE score , TOEFL score , SOP , LOR and CGPA to predict our model on the dependent variable Chances of Admit. As the number of explanatory variables has increased our model accuracy and R2 score have also shown an improvement leading to better predictions using the Multiple Linear Regression Model. "
   ]
  },
  {
   "cell_type": "code",
   "execution_count": 102,
   "metadata": {},
   "outputs": [
    {
     "name": "stdout",
     "output_type": "stream",
     "text": [
      " Mean Squared error :  0.0026095766827773596\n",
      " Root Mean Squared error :  0.051084015922569746\n"
     ]
    }
   ],
   "source": [
    "from sklearn.metrics import mean_squared_error\n",
    "mul_mse = mean_squared_error(Y_test, Y_pred)\n",
    "print(\" Mean Squared error : \",mul_mse)\n",
    "mul_rmse = np.sqrt(mul_mse)\n",
    "print(\" Root Mean Squared error : \",mul_rmse)\n"
   ]
  },
  {
   "cell_type": "markdown",
   "metadata": {},
   "source": [
    "3. DECISION TREE REGRESSOR"
   ]
  },
  {
   "cell_type": "code",
   "execution_count": 103,
   "metadata": {},
   "outputs": [
    {
     "data": {
      "text/plain": [
       "DecisionTreeRegressor(criterion='mse', max_depth=None, max_features=None,\n",
       "           max_leaf_nodes=None, min_impurity_decrease=0.0,\n",
       "           min_impurity_split=None, min_samples_leaf=1,\n",
       "           min_samples_split=2, min_weight_fraction_leaf=0.0,\n",
       "           presort=False, random_state=42, splitter='best')"
      ]
     },
     "execution_count": 103,
     "metadata": {},
     "output_type": "execute_result"
    }
   ],
   "source": [
    "from sklearn.tree import DecisionTreeRegressor\n",
    "\n",
    "tree_reg = DecisionTreeRegressor(random_state=42)\n",
    "tree_reg.fit(X_train, Y_train)"
   ]
  },
  {
   "cell_type": "code",
   "execution_count": 104,
   "metadata": {},
   "outputs": [
    {
     "name": "stdout",
     "output_type": "stream",
     "text": [
      " Mean Squared error :  0.00691010101010101\n",
      " Root Mean Squared error :  0.08312701732951214\n",
      "R2 score :0.6036950520031785\n"
     ]
    }
   ],
   "source": [
    "Y_pred = tree_reg.predict(X_test)\n",
    "tree_mse = mean_squared_error(Y_test, Y_pred)\n",
    "print(\" Mean Squared error : \", tree_mse)\n",
    "\n",
    "tree_rmse = np.sqrt(tree_mse)\n",
    "print(\" Root Mean Squared error : \", tree_rmse)\n",
    "\n",
    "from sklearn.metrics import mean_squared_error , r2_score\n",
    "\n",
    "# R2 score helps us to find the performance of our model\n",
    "print(\"R2 score :{}\".format(r2_score(Y_test,Y_pred)))\n",
    "r2_tree = r2_score(Y_test,Y_pred)\n"
   ]
  },
  {
   "cell_type": "markdown",
   "metadata": {},
   "source": [
    "Decision Tree Regressor has the function to measure the quality of a split. It supports mean square error which is equal to variance reduction as a feature selection criteria. we have used the decision tree regressor and calculated the R2 score as well as MSE for performance evaluation."
   ]
  },
  {
   "cell_type": "markdown",
   "metadata": {},
   "source": [
    "4. RANDOM FOREST REGRESSOR"
   ]
  },
  {
   "cell_type": "code",
   "execution_count": 105,
   "metadata": {},
   "outputs": [
    {
     "data": {
      "text/plain": [
       "RandomForestRegressor(bootstrap=True, criterion='mse', max_depth=None,\n",
       "           max_features='auto', max_leaf_nodes=None,\n",
       "           min_impurity_decrease=0.0, min_impurity_split=None,\n",
       "           min_samples_leaf=1, min_samples_split=2,\n",
       "           min_weight_fraction_leaf=0.0, n_estimators=10, n_jobs=None,\n",
       "           oob_score=False, random_state=42, verbose=0, warm_start=False)"
      ]
     },
     "execution_count": 105,
     "metadata": {},
     "output_type": "execute_result"
    }
   ],
   "source": [
    "from sklearn.ensemble import RandomForestRegressor\n",
    "\n",
    "forest_reg = RandomForestRegressor(n_estimators=10, random_state=42)\n",
    "forest_reg.fit(X_train, Y_train)"
   ]
  },
  {
   "cell_type": "code",
   "execution_count": 106,
   "metadata": {},
   "outputs": [
    {
     "name": "stdout",
     "output_type": "stream",
     "text": [
      " Mean Squared error :  0.0036036565656565643\n",
      " Root Mean Squared error :  0.06003046364685654\n",
      "R2 score :0.7933247392819149\n"
     ]
    }
   ],
   "source": [
    "Y_pred = forest_reg.predict(X_test)\n",
    "forest_mse = mean_squared_error(Y_test, Y_pred)\n",
    "print(\" Mean Squared error : \", forest_mse)\n",
    "\n",
    "forest_rmse = np.sqrt(forest_mse)\n",
    "print(\" Root Mean Squared error : \", forest_rmse)\n",
    "\n",
    "from sklearn.metrics import mean_squared_error , r2_score\n",
    "\n",
    "# R2 score helps us to find the performance of our model\n",
    "print(\"R2 score :{}\".format(r2_score(Y_test,Y_pred)))\n",
    "r2_forest = r2_score(Y_test,Y_pred)\n"
   ]
  },
  {
   "cell_type": "markdown",
   "metadata": {},
   "source": [
    "A random forest is a meta estimator that fits a number of classifying decision trees on various sub-samples of the dataset and uses averaging to improve the predictive accuracy and control over-fitting. The sub-sample size is always the same as the original input sample size but the samples are drawn with replacement if bootstrap = True (default)."
   ]
  },
  {
   "cell_type": "markdown",
   "metadata": {},
   "source": [
    "5. SUPPORT VECTOR MACHINE"
   ]
  },
  {
   "cell_type": "code",
   "execution_count": 107,
   "metadata": {},
   "outputs": [
    {
     "data": {
      "text/plain": [
       "SVR(C=1.0, cache_size=200, coef0=0.0, degree=3, epsilon=0.1,\n",
       "  gamma='auto_deprecated', kernel='linear', max_iter=-1, shrinking=True,\n",
       "  tol=0.001, verbose=False)"
      ]
     },
     "execution_count": 107,
     "metadata": {},
     "output_type": "execute_result"
    }
   ],
   "source": [
    "from sklearn.svm import SVR\n",
    "\n",
    "svm_reg = SVR(kernel=\"linear\")\n",
    "svm_reg.fit(X_train, Y_train)\n"
   ]
  },
  {
   "cell_type": "code",
   "execution_count": 108,
   "metadata": {},
   "outputs": [
    {
     "name": "stdout",
     "output_type": "stream",
     "text": [
      " Mean Squared error :  0.0035105533849239196\n",
      "Root Mean Squared error :  0.05924992307947682\n",
      "R2 score :0.798664350257884\n"
     ]
    }
   ],
   "source": [
    "Y_pred = svm_reg.predict(X_test)\n",
    "svm_mse = mean_squared_error(Y_test, Y_pred)\n",
    "print(\" Mean Squared error : \", svm_mse)\n",
    "\n",
    "svm_rmse = np.sqrt(svm_mse)\n",
    "print(\"Root Mean Squared error : \", svm_rmse)\n",
    "\n",
    "from sklearn.metrics import mean_squared_error , r2_score\n",
    "\n",
    "# R2 score helps us to find the performance of our model\n",
    "print(\"R2 score :{}\".format(r2_score(Y_test,Y_pred)))\n",
    "r2_svm = r2_score(Y_test,Y_pred)"
   ]
  },
  {
   "cell_type": "markdown",
   "metadata": {},
   "source": [
    "In simple regression we try to minimise the error rate. While in SVR we try to fit the error within a certain threshold. It is a powerful algorithm which allows us to choose how tolerant we are of the errors."
   ]
  },
  {
   "cell_type": "markdown",
   "metadata": {},
   "source": [
    "# 5.1. Comparing our models using MSE"
   ]
  },
  {
   "cell_type": "code",
   "execution_count": 109,
   "metadata": {},
   "outputs": [
    {
     "data": {
      "text/html": [
       "<div>\n",
       "<style scoped>\n",
       "    .dataframe tbody tr th:only-of-type {\n",
       "        vertical-align: middle;\n",
       "    }\n",
       "\n",
       "    .dataframe tbody tr th {\n",
       "        vertical-align: top;\n",
       "    }\n",
       "\n",
       "    .dataframe thead th {\n",
       "        text-align: right;\n",
       "    }\n",
       "</style>\n",
       "<table border=\"1\" class=\"dataframe\">\n",
       "  <thead>\n",
       "    <tr style=\"text-align: right;\">\n",
       "      <th></th>\n",
       "      <th>Models</th>\n",
       "      <th>Mean Square Error</th>\n",
       "      <th>R2 Score</th>\n",
       "    </tr>\n",
       "  </thead>\n",
       "  <tbody>\n",
       "    <tr>\n",
       "      <th>0</th>\n",
       "      <td>Simple Linear Regression</td>\n",
       "      <td>0.005308</td>\n",
       "      <td>0.709320</td>\n",
       "    </tr>\n",
       "    <tr>\n",
       "      <th>1</th>\n",
       "      <td>Multiple Linear Regression</td>\n",
       "      <td>0.002610</td>\n",
       "      <td>0.850337</td>\n",
       "    </tr>\n",
       "    <tr>\n",
       "      <th>2</th>\n",
       "      <td>Decision Tree Regressor</td>\n",
       "      <td>0.006910</td>\n",
       "      <td>0.603695</td>\n",
       "    </tr>\n",
       "    <tr>\n",
       "      <th>3</th>\n",
       "      <td>Random Forest Regressor</td>\n",
       "      <td>0.003604</td>\n",
       "      <td>0.793325</td>\n",
       "    </tr>\n",
       "    <tr>\n",
       "      <th>4</th>\n",
       "      <td>Support Vector Regression</td>\n",
       "      <td>0.003511</td>\n",
       "      <td>0.798664</td>\n",
       "    </tr>\n",
       "  </tbody>\n",
       "</table>\n",
       "</div>"
      ],
      "text/plain": [
       "                       Models  Mean Square Error  R2 Score\n",
       "0    Simple Linear Regression           0.005308  0.709320\n",
       "1  Multiple Linear Regression           0.002610  0.850337\n",
       "2     Decision Tree Regressor           0.006910  0.603695\n",
       "3     Random Forest Regressor           0.003604  0.793325\n",
       "4   Support Vector Regression           0.003511  0.798664"
      ]
     },
     "execution_count": 109,
     "metadata": {},
     "output_type": "execute_result"
    }
   ],
   "source": [
    "models = [\"Simple Linear Regression\" , \"Multiple Linear Regression\" , \"Decision Tree Regressor\" , \"Random Forest Regressor\" , \"Support Vector Regression\"]\n",
    "values = [lin_mse, mul_mse, tree_mse , forest_mse , svm_mse]\n",
    "r2 = [r2_lin, r2_mul, r2_tree, r2_forest, r2_svm]\n",
    "\n",
    "\n",
    "# creating a dictionary\n",
    "dict = {'Models': models , 'Mean Square Error': values , \"R2 Score\" : r2}\n",
    "\n",
    "df = pd.DataFrame(dict)\n",
    "df"
   ]
  },
  {
   "cell_type": "code",
   "execution_count": 110,
   "metadata": {},
   "outputs": [
    {
     "data": {
      "text/plain": [
       "<matplotlib.axes._subplots.AxesSubplot at 0x1b9c8865da0>"
      ]
     },
     "execution_count": 110,
     "metadata": {},
     "output_type": "execute_result"
    },
    {
     "data": {
      "image/png": "[encoded data removed]",
      "text/plain": [
       "<Figure size 432x288 with 1 Axes>"
      ]
     },
     "metadata": {
      "needs_background": "light"
     },
     "output_type": "display_data"
    }
   ],
   "source": [
    "sns.set_palette(\"Set2\")\n",
    "sns.barplot(x=r2, y=models)"
   ]
  },
  {
   "cell_type": "markdown",
   "metadata": {},
   "source": [
    "We notice that the value of mean square error is the least in case of Multiple Linear Regression and hence we consider it to be the best model for our Dataset. While the Decision Tree Regressor has the least value making it the worst performer for our model."
   ]
  },
  {
   "cell_type": "markdown",
   "metadata": {},
   "source": [
    "# 5.2. Fine tuning our model"
   ]
  },
  {
   "cell_type": "markdown",
   "metadata": {},
   "source": [
    "Hence using Cross Validation to improve the performance measures !!"
   ]
  },
  {
   "cell_type": "code",
   "execution_count": 121,
   "metadata": {},
   "outputs": [],
   "source": [
    "def display_scores(scores):\n",
    "    print(\"Scores:\", scores)\n",
    "    print(\"Mean:\", scores.mean())\n",
    "    print(\"Standard deviation:\", scores.std())"
   ]
  },
  {
   "cell_type": "code",
   "execution_count": 122,
   "metadata": {},
   "outputs": [],
   "source": [
    "from sklearn.model_selection import cross_val_score"
   ]
  },
  {
   "cell_type": "markdown",
   "metadata": {},
   "source": [
    "LINEAR REGRESSION"
   ]
  },
  {
   "cell_type": "code",
   "execution_count": 123,
   "metadata": {},
   "outputs": [],
   "source": [
    "X = pd.DataFrame(data.iloc[:,6])\n",
    "Y = pd.DataFrame(data.iloc[:,8])\n",
    "\n",
    "# splitting the dataset into train and test\n",
    "from sklearn.model_selection import train_test_split\n",
    "X_train , X_test , Y_train , Y_test = train_test_split(X,Y,test_size = 0.25)"
   ]
  },
  {
   "cell_type": "code",
   "execution_count": 124,
   "metadata": {},
   "outputs": [
    {
     "name": "stdout",
     "output_type": "stream",
     "text": [
      "Scores: [0.0709675  0.05356484 0.06423402 0.0624475  0.07269409 0.07835461\n",
      " 0.04537068 0.05151888 0.06644562 0.08549111]\n",
      "Mean: 0.0651088854849138\n",
      "Standard deviation: 0.011831854944082764\n"
     ]
    }
   ],
   "source": [
    "lin_scores = cross_val_score(lin_regressor, X_train, Y_train,\n",
    "                             scoring=\"neg_mean_squared_error\", cv=10)\n",
    "lin_rmse_scores = np.sqrt(-lin_scores)\n",
    "lin_mean = -lin_scores.mean()\n",
    "lin_std = lin_scores.std()\n",
    "display_scores(lin_rmse_scores)"
   ]
  },
  {
   "cell_type": "markdown",
   "metadata": {},
   "source": [
    "MULTIPLE REGRESSION"
   ]
  },
  {
   "cell_type": "code",
   "execution_count": 125,
   "metadata": {},
   "outputs": [],
   "source": [
    "X = pd.DataFrame(data.iloc[:,[1,2,3,4,5,6]])\n",
    "Y = pd.DataFrame(data.iloc[:,8])\n",
    "\n",
    "# splitting the dataset into train and test\n",
    "from sklearn.model_selection import train_test_split\n",
    "X_train , X_test , Y_train , Y_test = train_test_split(X,Y,test_size = 0.25, random_state = 42)"
   ]
  },
  {
   "cell_type": "code",
   "execution_count": 126,
   "metadata": {},
   "outputs": [
    {
     "name": "stdout",
     "output_type": "stream",
     "text": [
      "Scores: [0.07453175 0.07392249 0.06543676 0.05300464 0.05824797 0.06121644\n",
      " 0.07025533 0.04383791 0.06037942 0.04824606]\n",
      "Mean: 0.06090787770161615\n",
      "Standard deviation: 0.009922154790153275\n"
     ]
    }
   ],
   "source": [
    "mul_scores = cross_val_score(regressor, X_train, Y_train,\n",
    "                             scoring=\"neg_mean_squared_error\", cv=10)\n",
    "mul_rmse_scores = np.sqrt(-mul_scores)\n",
    "mul_mean = -mul_scores.mean()\n",
    "mul_std = mul_scores.std()\n",
    "display_scores(mul_rmse_scores)"
   ]
  },
  {
   "cell_type": "markdown",
   "metadata": {},
   "source": [
    "DECISION TREE"
   ]
  },
  {
   "cell_type": "code",
   "execution_count": 127,
   "metadata": {},
   "outputs": [
    {
     "name": "stdout",
     "output_type": "stream",
     "text": [
      "Scores: [0.09523655 0.08154753 0.08650626 0.08154753 0.07241086 0.08721621\n",
      " 0.09941496 0.08739526 0.0935875  0.05833908]\n",
      "Mean: 0.08432017407289248\n",
      "Standard deviation: 0.011347903373917907\n"
     ]
    }
   ],
   "source": [
    "tree_scores = cross_val_score(tree_reg, X_train, Y_train,\n",
    "                         scoring=\"neg_mean_squared_error\", cv=10)\n",
    "tree_rmse_scores = np.sqrt(-tree_scores)\n",
    "tree_mean = -tree_scores.mean()\n",
    "tree_std = tree_scores.std()\n",
    "display_scores(tree_rmse_scores)"
   ]
  },
  {
   "cell_type": "markdown",
   "metadata": {},
   "source": [
    "RANDOM FOREST "
   ]
  },
  {
   "cell_type": "code",
   "execution_count": 128,
   "metadata": {},
   "outputs": [
    {
     "name": "stdout",
     "output_type": "stream",
     "text": [
      "Scores: [0.07787683 0.07773481 0.07412849 0.06621178 0.07096548 0.07561944\n",
      " 0.07448132 0.05700302 0.07701993 0.0484049 ]\n",
      "Mean: 0.0699446000894123\n",
      "Standard deviation: 0.009435981449663351\n"
     ]
    }
   ],
   "source": [
    "forest_scores = cross_val_score(forest_reg, X_train, Y_train,\n",
    "                                scoring=\"neg_mean_squared_error\", cv=10)\n",
    "forest_rmse_scores = np.sqrt(-forest_scores)\n",
    "forest_mean = -forest_scores.mean()\n",
    "forest_std = forest_scores.std()\n",
    "display_scores(forest_rmse_scores)"
   ]
  },
  {
   "cell_type": "markdown",
   "metadata": {},
   "source": [
    "SUPPORT VECTOR MACHINE"
   ]
  },
  {
   "cell_type": "code",
   "execution_count": 129,
   "metadata": {},
   "outputs": [
    {
     "name": "stdout",
     "output_type": "stream",
     "text": [
      "Scores: [0.0769057  0.0728043  0.06587559 0.05819697 0.0727025  0.06549808\n",
      " 0.07254436 0.05493516 0.07023756 0.05572678]\n",
      "Mean: 0.066542698564281\n",
      "Standard deviation: 0.007464053965585952\n"
     ]
    }
   ],
   "source": [
    "svm_scores = cross_val_score(svm_reg, X_train, Y_train,\n",
    "                                scoring=\"neg_mean_squared_error\", cv=10)\n",
    "svm_rmse_scores = np.sqrt(-svm_scores)\n",
    "svm_mean = -svm_scores.mean()\n",
    "svm_std = svm_scores.std()\n",
    "display_scores(svm_rmse_scores)"
   ]
  },
  {
   "cell_type": "markdown",
   "metadata": {},
   "source": [
    "# 5.3. Comparing our Fine Tuned models using Mean & Standard Deviation"
   ]
  },
  {
   "cell_type": "code",
   "execution_count": 130,
   "metadata": {},
   "outputs": [
    {
     "data": {
      "text/html": [
       "<div>\n",
       "<style scoped>\n",
       "    .dataframe tbody tr th:only-of-type {\n",
       "        vertical-align: middle;\n",
       "    }\n",
       "\n",
       "    .dataframe tbody tr th {\n",
       "        vertical-align: top;\n",
       "    }\n",
       "\n",
       "    .dataframe thead th {\n",
       "        text-align: right;\n",
       "    }\n",
       "</style>\n",
       "<table border=\"1\" class=\"dataframe\">\n",
       "  <thead>\n",
       "    <tr style=\"text-align: right;\">\n",
       "      <th></th>\n",
       "      <th>Models</th>\n",
       "      <th>Mean</th>\n",
       "      <th>Standard Deviation</th>\n",
       "    </tr>\n",
       "  </thead>\n",
       "  <tbody>\n",
       "    <tr>\n",
       "      <th>0</th>\n",
       "      <td>Simple Linear Regression</td>\n",
       "      <td>0.004379</td>\n",
       "      <td>0.001545</td>\n",
       "    </tr>\n",
       "    <tr>\n",
       "      <th>1</th>\n",
       "      <td>Multiple Linear Regression</td>\n",
       "      <td>0.003808</td>\n",
       "      <td>0.001193</td>\n",
       "    </tr>\n",
       "    <tr>\n",
       "      <th>2</th>\n",
       "      <td>Decision Tree Regressor</td>\n",
       "      <td>0.007239</td>\n",
       "      <td>0.001800</td>\n",
       "    </tr>\n",
       "    <tr>\n",
       "      <th>3</th>\n",
       "      <td>Random Forest Regressor</td>\n",
       "      <td>0.004981</td>\n",
       "      <td>0.001210</td>\n",
       "    </tr>\n",
       "    <tr>\n",
       "      <th>4</th>\n",
       "      <td>Support Vector Regression</td>\n",
       "      <td>0.004484</td>\n",
       "      <td>0.000973</td>\n",
       "    </tr>\n",
       "  </tbody>\n",
       "</table>\n",
       "</div>"
      ],
      "text/plain": [
       "                       Models      Mean  Standard Deviation\n",
       "0    Simple Linear Regression  0.004379            0.001545\n",
       "1  Multiple Linear Regression  0.003808            0.001193\n",
       "2     Decision Tree Regressor  0.007239            0.001800\n",
       "3     Random Forest Regressor  0.004981            0.001210\n",
       "4   Support Vector Regression  0.004484            0.000973"
      ]
     },
     "execution_count": 130,
     "metadata": {},
     "output_type": "execute_result"
    }
   ],
   "source": [
    "models = [\"Simple Linear Regression\" , \"Multiple Linear Regression\" , \"Decision Tree Regressor\" , \"Random Forest Regressor\" , \"Support Vector Regression\"]\n",
    "mean = [lin_mean, mul_mean, tree_mean , forest_mean , svm_mean]\n",
    "std = [lin_std, mul_std, tree_std , forest_std , svm_std]\n",
    "\n",
    "# creating a dictionary\n",
    "dict = {'Models': models , 'Mean': mean , 'Standard Deviation': std }\n",
    "\n",
    "df = pd.DataFrame(dict)\n",
    "df"
   ]
  },
  {
   "cell_type": "code",
   "execution_count": 131,
   "metadata": {},
   "outputs": [
    {
     "data": {
      "text/plain": [
       "<matplotlib.axes._subplots.AxesSubplot at 0x1b9c897a940>"
      ]
     },
     "execution_count": 131,
     "metadata": {},
     "output_type": "execute_result"
    },
    {
     "data": {
      "image/png": "[encoded data removed]",
      "text/plain": [
       "<Figure size 432x288 with 1 Axes>"
      ]
     },
     "metadata": {
      "needs_background": "light"
     },
     "output_type": "display_data"
    }
   ],
   "source": [
    "sns.set_palette(\"Set2\")\n",
    "sns.barplot(x= mean, y= models)"
   ]
  },
  {
   "cell_type": "markdown",
   "metadata": {},
   "source": [
    "We see that after crossvalidation the Decision Tree Regressor has given us the maximum value for mean while Multiple linear regression has the least value for mean as calculated after the use of Cross Validation on out models."
   ]
  },
  {
   "cell_type": "markdown",
   "metadata": {},
   "source": [
    "# 6.  CLASSIFICATION "
   ]
  },
  {
   "cell_type": "markdown",
   "metadata": {},
   "source": [
    "We also study the classification techniques on our dataset with the independent variable handling ' GRE Score, TOEFL Score, SOP, LOR and CGPA' and dependent variable is given the class label Research containing values for whether Research can be performed or not."
   ]
  },
  {
   "cell_type": "markdown",
   "metadata": {},
   "source": [
    "The performance Measures we have found are CONFUSION MATRIX, F1 SCORE, ACCURACY SCORE and AREA UNDER CURVE value."
   ]
  },
  {
   "cell_type": "code",
   "execution_count": 132,
   "metadata": {},
   "outputs": [],
   "source": [
    "X = pd.DataFrame(data.iloc[:,[1,2,4,5,6]])\n",
    "Y = pd.DataFrame(data.iloc[:,7])\n",
    "\n",
    "from sklearn.model_selection import train_test_split\n",
    "\n",
    "X_train,X_test,y_train,y_test=train_test_split(X,Y,test_size=0.20, random_state=42)"
   ]
  },
  {
   "cell_type": "markdown",
   "metadata": {},
   "source": [
    "The various Performance Measures as calculated by us include the Classification Matrix, F1 score, Accuracy with/without Cross validation and Area under the curve."
   ]
  },
  {
   "cell_type": "markdown",
   "metadata": {},
   "source": [
    "1. LOGISTIC REGRESSION"
   ]
  },
  {
   "cell_type": "code",
   "execution_count": 134,
   "metadata": {},
   "outputs": [],
   "source": [
    "from sklearn.linear_model import LogisticRegression \n",
    "classifier = LogisticRegression()\n",
    "classifier.fit(X_train, y_train)\n",
    "\n",
    "y_pred = classifier.predict(X_test) \n",
    "train_pred=classifier.predict(X_train)"
   ]
  },
  {
   "cell_type": "markdown",
   "metadata": {},
   "source": [
    "Logistic regression is a statistical model that in its basic form uses a logistic function to model a binary dependent variable, although many more complex extensions exist. It uses a logit function to convert the calculations of the model as done into the classes to be predicted as 0 or 1 based upon the threshold mentioned.\n",
    "\n",
    "Herein we have used it to predict whether Research was done or Not by the Student !"
   ]
  },
  {
   "cell_type": "code",
   "execution_count": 135,
   "metadata": {},
   "outputs": [
    {
     "name": "stdout",
     "output_type": "stream",
     "text": [
      "[[19 16]\n",
      " [14 31]]\n"
     ]
    }
   ],
   "source": [
    "# finding the Confusion Matrix\n",
    "\n",
    "from sklearn.metrics import classification_report,confusion_matrix\n",
    "\n",
    "print(confusion_matrix(y_test, y_pred))"
   ]
  },
  {
   "cell_type": "code",
   "execution_count": 136,
   "metadata": {},
   "outputs": [
    {
     "name": "stdout",
     "output_type": "stream",
     "text": [
      "              precision    recall  f1-score   support\n",
      "\n",
      "           0       0.58      0.54      0.56        35\n",
      "           1       0.66      0.69      0.67        45\n",
      "\n",
      "   micro avg       0.62      0.62      0.62        80\n",
      "   macro avg       0.62      0.62      0.62        80\n",
      "weighted avg       0.62      0.62      0.62        80\n",
      "\n"
     ]
    }
   ],
   "source": [
    "# the classification Report containing F1 score\n",
    "print(classification_report(y_test,y_pred))"
   ]
  },
  {
   "cell_type": "code",
   "execution_count": 137,
   "metadata": {},
   "outputs": [
    {
     "name": "stdout",
     "output_type": "stream",
     "text": [
      "Accuracy for Logistic Regression after cross validation is  :  0.6769230769230768\n"
     ]
    }
   ],
   "source": [
    "# Accuracy Score after Crossvalidation\n",
    "from sklearn import model_selection\n",
    "seed = 7\n",
    "kfold = model_selection.KFold(n_splits=10, random_state=seed)\n",
    "model = LogisticRegression()\n",
    "scoring = 'accuracy'\n",
    "results = model_selection.cross_val_score(model, X, Y, cv=kfold, scoring=scoring)\n",
    "acc_log = results.mean()\n",
    "print(\"Accuracy for Logistic Regression after cross validation is  : \" , acc_log)"
   ]
  },
  {
   "cell_type": "code",
   "execution_count": 139,
   "metadata": {},
   "outputs": [
    {
     "name": "stdout",
     "output_type": "stream",
     "text": [
      "Accuracy Score for Logistic Regression is :  0.625\n"
     ]
    }
   ],
   "source": [
    "# the Accuracy of the Model without cross validation\n",
    "from sklearn.metrics import accuracy_score\n",
    "acc1_log = accuracy_score(y_test, y_pred)\n",
    "print(\"Accuracy Score for Logistic Regression is : \",acc1_log)"
   ]
  },
  {
   "cell_type": "markdown",
   "metadata": {},
   "source": [
    "We notice that after cross validation the accuracy score has increased by 0.021 units."
   ]
  },
  {
   "cell_type": "code",
   "execution_count": 142,
   "metadata": {},
   "outputs": [
    {
     "name": "stdout",
     "output_type": "stream",
     "text": [
      "Area under the curve score is :  0.7560443961117141\n"
     ]
    }
   ],
   "source": [
    "# Area Under the Curve performance measure After cross Validation\n",
    "scoring = 'roc_auc'\n",
    "results = model_selection.cross_val_score(model, X, Y, cv=kfold, scoring=scoring)\n",
    "auc_log = results.mean()\n",
    "print(\"Area under the curve score is : \",auc_log)"
   ]
  },
  {
   "cell_type": "markdown",
   "metadata": {},
   "source": [
    "2. NAIVE BAYES"
   ]
  },
  {
   "cell_type": "code",
   "execution_count": 143,
   "metadata": {},
   "outputs": [],
   "source": [
    "# Fitting Naive Bayes to the Training set\n",
    "from sklearn.naive_bayes import GaussianNB\n",
    "classifier = GaussianNB()\n",
    "classifier.fit(X_train, y_train)\n",
    "\n",
    "# Predicting the Test set results\n",
    "y_pred = classifier.predict(X_test)"
   ]
  },
  {
   "cell_type": "markdown",
   "metadata": {},
   "source": [
    "naïve Bayes classifiers are a family of simple \"probabilistic classifiers\" based on applying Bayes' theorem with strong (naïve) independence assumptions between the features. They are among the simplest Bayesian network models."
   ]
  },
  {
   "cell_type": "code",
   "execution_count": 144,
   "metadata": {},
   "outputs": [
    {
     "name": "stdout",
     "output_type": "stream",
     "text": [
      "[[26  9]\n",
      " [13 32]]\n"
     ]
    }
   ],
   "source": [
    "# Making the Confusion Matrix\n",
    "from sklearn.metrics import confusion_matrix\n",
    "print(confusion_matrix(y_test, y_pred))"
   ]
  },
  {
   "cell_type": "code",
   "execution_count": 145,
   "metadata": {},
   "outputs": [
    {
     "name": "stdout",
     "output_type": "stream",
     "text": [
      "              precision    recall  f1-score   support\n",
      "\n",
      "           0       0.67      0.74      0.70        35\n",
      "           1       0.78      0.71      0.74        45\n",
      "\n",
      "   micro avg       0.72      0.72      0.73        80\n",
      "   macro avg       0.72      0.73      0.72        80\n",
      "weighted avg       0.73      0.72      0.73        80\n",
      "\n"
     ]
    }
   ],
   "source": [
    "# the classification Report containing F1 score\n",
    "print(classification_report(y_test,y_pred))"
   ]
  },
  {
   "cell_type": "code",
   "execution_count": 147,
   "metadata": {},
   "outputs": [
    {
     "name": "stdout",
     "output_type": "stream",
     "text": [
      "Accuracy after cross validation : 0.7606410256410256\n"
     ]
    }
   ],
   "source": [
    "# Accuracy Score after Crossvalidation\n",
    "from sklearn import model_selection\n",
    "seed = 7\n",
    "kfold = model_selection.KFold(n_splits=10, random_state=seed)\n",
    "\n",
    "scoring = 'accuracy'\n",
    "results = model_selection.cross_val_score(classifier, X, Y, cv=kfold, scoring=scoring)\n",
    "acc_nb = results.mean()\n",
    "print(\"Accuracy after cross validation :\", acc_nb)"
   ]
  },
  {
   "cell_type": "code",
   "execution_count": 148,
   "metadata": {},
   "outputs": [
    {
     "name": "stdout",
     "output_type": "stream",
     "text": [
      "Accuracy scire for naive bayes:  0.725\n"
     ]
    }
   ],
   "source": [
    "# the Accuracy of the Model without cross validation\n",
    "acc1_nb = accuracy_score(y_test, y_pred)\n",
    "print(\"Accuracy score for naive bayes: \",acc1_nb)"
   ]
  },
  {
   "cell_type": "code",
   "execution_count": 149,
   "metadata": {},
   "outputs": [
    {
     "name": "stdout",
     "output_type": "stream",
     "text": [
      "Area under the curve score :  0.8434640230226454\n"
     ]
    }
   ],
   "source": [
    "# Area Under the Curve performance measure After cross Validation\n",
    "scoring = 'roc_auc'\n",
    "results = model_selection.cross_val_score(classifier, X, Y, cv=kfold, scoring=scoring)\n",
    "auc_nb = results.mean()\n",
    "print(\"Area under the curve score : \",auc_nb)"
   ]
  },
  {
   "cell_type": "markdown",
   "metadata": {},
   "source": [
    "3. SUPPORT VECTOR MACHINE"
   ]
  },
  {
   "cell_type": "code",
   "execution_count": 150,
   "metadata": {},
   "outputs": [],
   "source": [
    "# Fitting SVM to the Training set\n",
    "from sklearn.svm import SVC\n",
    "classifier = SVC(kernel = 'rbf')\n",
    "classifier.fit(X_train, y_train)\n",
    "\n",
    "# Predicting the Test set results\n",
    "y_pred = classifier.predict(X_test)"
   ]
  },
  {
   "cell_type": "markdown",
   "metadata": {},
   "source": [
    "Support-vector machines are supervised learning models with associated learning algorithms that analyze data used for classification and regression analysis. Given a set of training examples, each marked as belonging to one or the other of two categories, an SVM training algorithm builds a model that assigns new examples to one category or the other, making it a non-probabilistic binary linear classifier. \n",
    "\n",
    "An SVM model is a representation of the examples as points in space, mapped so that the examples of the separate categories are divided by a clear gap that is as wide as possible. New examples are then mapped into that same space and predicted to belong to a category based on the side of the gap on which they fall."
   ]
  },
  {
   "cell_type": "code",
   "execution_count": 151,
   "metadata": {},
   "outputs": [
    {
     "name": "stdout",
     "output_type": "stream",
     "text": [
      "[[28  7]\n",
      " [10 35]]\n"
     ]
    }
   ],
   "source": [
    "# Making the Confusion Matrix\n",
    "from sklearn.metrics import confusion_matrix\n",
    "print(confusion_matrix(y_test, y_pred))"
   ]
  },
  {
   "cell_type": "code",
   "execution_count": 152,
   "metadata": {},
   "outputs": [
    {
     "name": "stdout",
     "output_type": "stream",
     "text": [
      "              precision    recall  f1-score   support\n",
      "\n",
      "           0       0.74      0.80      0.77        35\n",
      "           1       0.83      0.78      0.80        45\n",
      "\n",
      "   micro avg       0.79      0.79      0.79        80\n",
      "   macro avg       0.79      0.79      0.79        80\n",
      "weighted avg       0.79      0.79      0.79        80\n",
      "\n"
     ]
    }
   ],
   "source": [
    "# the classification Report containing F1 score\n",
    "print(classification_report(y_test,y_pred))"
   ]
  },
  {
   "cell_type": "code",
   "execution_count": 159,
   "metadata": {},
   "outputs": [
    {
     "name": "stdout",
     "output_type": "stream",
     "text": [
      "Accuracy after cross validation: 0.7782051282051283\n"
     ]
    }
   ],
   "source": [
    "# Accuracy Score after Crossvalidation\n",
    "from sklearn import model_selection\n",
    "seed = 7\n",
    "kfold = model_selection.KFold(n_splits=10, random_state=seed)\n",
    "\n",
    "scoring = 'accuracy'\n",
    "results = model_selection.cross_val_score(classifier, X, Y, cv=kfold, scoring=scoring)\n",
    "acc_svm = results.mean()\n",
    "print(\"Accuracy after cross validation:\" , acc_svm)"
   ]
  },
  {
   "cell_type": "code",
   "execution_count": 160,
   "metadata": {},
   "outputs": [
    {
     "name": "stdout",
     "output_type": "stream",
     "text": [
      "SVM accuracy : 0.7875\n"
     ]
    }
   ],
   "source": [
    "# the Accuracy of the Model without cross validation\n",
    "acc1_svm = accuracy_score(y_test, y_pred)\n",
    "print(\"SVM accuracy :\", acc1_svm)"
   ]
  },
  {
   "cell_type": "markdown",
   "metadata": {},
   "source": [
    "we see that in the case of SVM the accuracy after cross validation is less than the total accuracy score."
   ]
  },
  {
   "cell_type": "code",
   "execution_count": 155,
   "metadata": {},
   "outputs": [
    {
     "name": "stdout",
     "output_type": "stream",
     "text": [
      "Area under the curve score: 0.8214726272772822\n"
     ]
    }
   ],
   "source": [
    "# Area Under the Curve performance measure After cross Validation\n",
    "scoring = 'roc_auc'\n",
    "results = model_selection.cross_val_score(classifier, X, Y, cv=kfold, scoring=scoring)\n",
    "auc_svm = results.mean()\n",
    "print(\"Area under the curve score:\", auc_svm)"
   ]
  },
  {
   "cell_type": "markdown",
   "metadata": {},
   "source": [
    "# 6.1. Hypertuning parameter"
   ]
  },
  {
   "cell_type": "code",
   "execution_count": 157,
   "metadata": {},
   "outputs": [
    {
     "name": "stdout",
     "output_type": "stream",
     "text": [
      "Fitting 3 folds for each of 10 candidates, totalling 30 fits\n",
      "[CV] gamma=1, C=0.1 ..................................................\n",
      "[CV] ................................... gamma=1, C=0.1, total=   0.0s\n",
      "[CV] gamma=1, C=0.1 ..................................................\n",
      "[CV] ................................... gamma=1, C=0.1, total=   0.0s\n",
      "[CV] gamma=1, C=0.1 ..................................................\n",
      "[CV] ................................... gamma=1, C=0.1, total=   0.0s\n",
      "[CV] gamma=0.001, C=10 ...............................................\n",
      "[CV] ................................ gamma=0.001, C=10, total=   0.0s\n",
      "[CV] gamma=0.001, C=10 ...............................................\n",
      "[CV] ................................ gamma=0.001, C=10, total=   0.0s\n",
      "[CV] gamma=0.001, C=10 ...............................................\n",
      "[CV] ................................ gamma=0.001, C=10, total=   0.0s\n",
      "[CV] gamma=0.1, C=100 ................................................\n",
      "[CV] ................................. gamma=0.1, C=100, total=   0.0s\n",
      "[CV] gamma=0.1, C=100 ................................................\n",
      "[CV] ................................. gamma=0.1, C=100, total=   0.0s\n",
      "[CV] gamma=0.1, C=100 ................................................\n",
      "[CV] ................................. gamma=0.1, C=100, total=   0.0s\n",
      "[CV] gamma=0.01, C=1 .................................................\n",
      "[CV] .................................. gamma=0.01, C=1, total=   0.0s\n",
      "[CV] gamma=0.01, C=1 .................................................\n",
      "[CV] .................................. gamma=0.01, C=1, total=   0.0s\n",
      "[CV] gamma=0.01, C=1 .................................................\n",
      "[CV] .................................. gamma=0.01, C=1, total=   0.0s\n",
      "[CV] gamma=1, C=1 ....................................................\n",
      "[CV] ..................................... gamma=1, C=1, total=   0.0s\n",
      "[CV] gamma=1, C=1 ....................................................\n",
      "[CV] ..................................... gamma=1, C=1, total=   0.0s\n",
      "[CV] gamma=1, C=1 ....................................................\n",
      "[CV] ..................................... gamma=1, C=1, total=   0.0s\n",
      "[CV] gamma=0.001, C=1 ................................................\n",
      "[CV] ................................. gamma=0.001, C=1, total=   0.0s\n",
      "[CV] gamma=0.001, C=1 ................................................\n",
      "[CV] ................................. gamma=0.001, C=1, total=   0.0s\n",
      "[CV] gamma=0.001, C=1 ................................................\n",
      "[CV] ................................. gamma=0.001, C=1, total=   0.0s\n",
      "[CV] gamma=0.001, C=100 ..............................................\n",
      "[CV] ............................... gamma=0.001, C=100, total=   0.0s\n",
      "[CV] gamma=0.001, C=100 ..............................................\n",
      "[CV] ............................... gamma=0.001, C=100, total=   0.0s\n",
      "[CV] gamma=0.001, C=100 ..............................................\n",
      "[CV] ............................... gamma=0.001, C=100, total=   0.0s\n",
      "[CV] gamma=0.1, C=10 .................................................\n",
      "[CV] .................................. gamma=0.1, C=10, total=   0.0s\n",
      "[CV] gamma=0.1, C=10 .................................................\n",
      "[CV] .................................. gamma=0.1, C=10, total=   0.0s\n",
      "[CV] gamma=0.1, C=10 .................................................\n",
      "[CV] .................................. gamma=0.1, C=10, total=   0.0s\n",
      "[CV] gamma=0.1, C=1 ..................................................\n",
      "[CV] ................................... gamma=0.1, C=1, total=   0.0s\n",
      "[CV] gamma=0.1, C=1 ..................................................\n",
      "[CV] ................................... gamma=0.1, C=1, total=   0.0s\n",
      "[CV] gamma=0.1, C=1 ..................................................\n",
      "[CV] ................................... gamma=0.1, C=1, total=   0.0s\n",
      "[CV] gamma=0.01, C=100 ...............................................\n",
      "[CV] ................................ gamma=0.01, C=100, total=   0.0s\n",
      "[CV] gamma=0.01, C=100 ...............................................\n",
      "[CV] ................................ gamma=0.01, C=100, total=   0.0s\n",
      "[CV] gamma=0.01, C=100 ...............................................\n"
     ]
    },
    {
     "name": "stderr",
     "output_type": "stream",
     "text": [
      "[Parallel(n_jobs=1)]: Using backend SequentialBackend with 1 concurrent workers.\n",
      "[Parallel(n_jobs=1)]: Done   1 out of   1 | elapsed:    0.0s remaining:    0.0s\n"
     ]
    },
    {
     "name": "stdout",
     "output_type": "stream",
     "text": [
      "[CV] ................................ gamma=0.01, C=100, total=   0.0s\n",
      "\n",
      "\n",
      "\n",
      "Random Search Accuracy Score on SVM :  0.775\n"
     ]
    },
    {
     "name": "stderr",
     "output_type": "stream",
     "text": [
      "[Parallel(n_jobs=1)]: Done  30 out of  30 | elapsed:    0.1s finished\n"
     ]
    }
   ],
   "source": [
    "# use of Random search ---\n",
    "from sklearn.model_selection import RandomizedSearchCV\n",
    "param_grid = {'C': [0.1,1, 10, 100], 'gamma': [1,0.1,0.01,0.001]} \n",
    "\n",
    "rnd = RandomizedSearchCV(SVC(),param_grid,refit=True,verbose=2)\n",
    "rnd.fit(X_train,y_train)\n",
    "rnd_predictions = rnd.predict(X_test)\n",
    "\n",
    "print(\"\\n\\n\")\n",
    "acc_score = accuracy_score(y_test, rnd_predictions)\n",
    "print( \"Random Search Accuracy Score on SVM : \" , acc_score)"
   ]
  },
  {
   "cell_type": "markdown",
   "metadata": {},
   "source": [
    "Random search is a technique where random combinations of the hyperparameters are used to find the best solution for the built model. It tries random combinations of a range of values. \n",
    "\n",
    "We use Random Search as it is expected to work better than the Grid Search algorithm in case of many features being present as in our dataset. herein we have used Random Search on SVM and found the accuracy in order to compare the performance of Randomised hyperparameters and normal parameters."
   ]
  },
  {
   "cell_type": "markdown",
   "metadata": {},
   "source": [
    "4. DECISION TREE"
   ]
  },
  {
   "cell_type": "code",
   "execution_count": 161,
   "metadata": {},
   "outputs": [],
   "source": [
    "# Fitting Decision Tree Classification to the Training set\n",
    "from sklearn.tree import DecisionTreeClassifier\n",
    "classifier = DecisionTreeClassifier(criterion = 'entropy')\n",
    "classifier.fit(X_train, y_train)\n",
    "\n",
    "# Predicting the Test set results\n",
    "y_pred = classifier.predict(X_test)"
   ]
  },
  {
   "cell_type": "markdown",
   "metadata": {},
   "source": [
    "Decision tree classifiers are used successfully in many diverse areas. Their most important feature is the capability of capturing descriptive decisionmaking knowledge from the supplied data."
   ]
  },
  {
   "cell_type": "code",
   "execution_count": 162,
   "metadata": {},
   "outputs": [
    {
     "name": "stdout",
     "output_type": "stream",
     "text": [
      "[[28  7]\n",
      " [17 28]]\n"
     ]
    }
   ],
   "source": [
    "# Making the Confusion Matrix\n",
    "from sklearn.metrics import confusion_matrix\n",
    "print(confusion_matrix(y_test, y_pred))"
   ]
  },
  {
   "cell_type": "code",
   "execution_count": 163,
   "metadata": {},
   "outputs": [
    {
     "name": "stdout",
     "output_type": "stream",
     "text": [
      "              precision    recall  f1-score   support\n",
      "\n",
      "           0       0.62      0.80      0.70        35\n",
      "           1       0.80      0.62      0.70        45\n",
      "\n",
      "   micro avg       0.70      0.70      0.70        80\n",
      "   macro avg       0.71      0.71      0.70        80\n",
      "weighted avg       0.72      0.70      0.70        80\n",
      "\n"
     ]
    }
   ],
   "source": [
    "# the classification Report containing F1 score\n",
    "print(classification_report(y_test,y_pred))"
   ]
  },
  {
   "cell_type": "code",
   "execution_count": 165,
   "metadata": {},
   "outputs": [
    {
     "name": "stdout",
     "output_type": "stream",
     "text": [
      "Accuracy after cross validation :  0.687371794871795\n"
     ]
    }
   ],
   "source": [
    "# Accuracy Score after Crossvalidation\n",
    "from sklearn import model_selection\n",
    "seed = 7\n",
    "kfold = model_selection.KFold(n_splits=10, random_state=seed)\n",
    "\n",
    "scoring = 'accuracy'\n",
    "results = model_selection.cross_val_score(classifier, X, Y, cv=kfold, scoring=scoring)\n",
    "acc_tree = results.mean()\n",
    "print(\"Accuracy after cross validation : \",acc_tree)"
   ]
  },
  {
   "cell_type": "code",
   "execution_count": 166,
   "metadata": {},
   "outputs": [
    {
     "name": "stdout",
     "output_type": "stream",
     "text": [
      "Accuracy score :  0.7\n"
     ]
    }
   ],
   "source": [
    "# the Accuracy of the Model without cross validation\n",
    "acc1_tree = accuracy_score(y_test, y_pred)\n",
    "print(\"Accuracy score : \",acc1_tree)"
   ]
  },
  {
   "cell_type": "code",
   "execution_count": 168,
   "metadata": {},
   "outputs": [
    {
     "name": "stdout",
     "output_type": "stream",
     "text": [
      "Area under the curve :  0.6651849376842478\n"
     ]
    }
   ],
   "source": [
    "# Area Under the Curve performance measure After cross Validation\n",
    "scoring = 'roc_auc'\n",
    "results = model_selection.cross_val_score(classifier, X, Y, cv=kfold, scoring=scoring)\n",
    "auc_tree = results.mean()\n",
    "print(\"Area under the curve : \", auc_tree)"
   ]
  },
  {
   "cell_type": "markdown",
   "metadata": {},
   "source": [
    "# 6.2.  VOTING CLASSIFIER"
   ]
  },
  {
   "cell_type": "markdown",
   "metadata": {},
   "source": [
    "Voting Classifier is an Ensemble Method which helps us to find the model performance when 2 or more classifiers are used together to perform better on our model.\n",
    "\n",
    "Herein we have used Logistic Regression and Decision tree as these two are the worst indivisual performers on the basis of their Accuracy scores."
   ]
  },
  {
   "cell_type": "code",
   "execution_count": 170,
   "metadata": {},
   "outputs": [
    {
     "data": {
      "text/plain": [
       "VotingClassifier(estimators=[('lr', LogisticRegression(C=1.0, class_weight=None, dual=False, fit_intercept=True,\n",
       "          intercept_scaling=1, max_iter=100, multi_class='warn',\n",
       "          n_jobs=None, penalty='l2', random_state=None, solver='warn',\n",
       "          tol=0.0001, verbose=0, warm_start=False)), ('tree', Decisi...f', max_iter=-1, probability=False, random_state=None,\n",
       "  shrinking=True, tol=0.001, verbose=False))],\n",
       "         flatten_transform=None, n_jobs=None, voting='hard', weights=None)"
      ]
     },
     "execution_count": 170,
     "metadata": {},
     "output_type": "execute_result"
    }
   ],
   "source": [
    "from sklearn.linear_model import LogisticRegression\n",
    "from sklearn.tree import DecisionTreeClassifier\n",
    "from sklearn.ensemble import VotingClassifier\n",
    "\n",
    "log_clf = LogisticRegression()\n",
    "tree_clf = DecisionTreeClassifier(criterion = 'entropy')\n",
    "svm_clf = SVC()\n",
    "\n",
    "voting_clf = VotingClassifier(\n",
    "\testimators = [('lr', log_clf), ('tree', tree_clf), ('svc',svm_clf)],\n",
    "\tvoting = 'hard')\n",
    "voting_clf.fit(X_train, y_train)"
   ]
  },
  {
   "cell_type": "code",
   "execution_count": 172,
   "metadata": {},
   "outputs": [
    {
     "name": "stdout",
     "output_type": "stream",
     "text": [
      " Accuracy with cross validation 0.7553846153846154\n"
     ]
    }
   ],
   "source": [
    "# Accuracy of the model with Cross Validation\n",
    "from sklearn import model_selection\n",
    "seed = 7\n",
    "kfold = model_selection.KFold(n_splits=10, random_state=seed)\n",
    "\n",
    "scoring = 'accuracy'\n",
    "results = model_selection.cross_val_score(voting_clf, X, Y, cv=kfold, scoring=scoring)\n",
    "acc_vot = results.mean()\n",
    "print(\" Accuracy with cross validation\", acc_vot)"
   ]
  },
  {
   "cell_type": "code",
   "execution_count": 173,
   "metadata": {},
   "outputs": [
    {
     "name": "stdout",
     "output_type": "stream",
     "text": [
      "Accuracy Score without cross validation 0.7\n"
     ]
    }
   ],
   "source": [
    "# the Accuracy of the Model without cross validation\n",
    "acc1_vot = accuracy_score(y_test, y_pred)\n",
    "print(\"Accuracy Score without cross validation\",acc1_vot)"
   ]
  },
  {
   "cell_type": "code",
   "execution_count": 174,
   "metadata": {},
   "outputs": [],
   "source": [
    "auc_vot = 'nan'"
   ]
  },
  {
   "cell_type": "markdown",
   "metadata": {},
   "source": [
    "# 6.3. Comparing the Classifier Performance"
   ]
  },
  {
   "cell_type": "code",
   "execution_count": 175,
   "metadata": {},
   "outputs": [
    {
     "data": {
      "text/html": [
       "<div>\n",
       "<style scoped>\n",
       "    .dataframe tbody tr th:only-of-type {\n",
       "        vertical-align: middle;\n",
       "    }\n",
       "\n",
       "    .dataframe tbody tr th {\n",
       "        vertical-align: top;\n",
       "    }\n",
       "\n",
       "    .dataframe thead th {\n",
       "        text-align: right;\n",
       "    }\n",
       "</style>\n",
       "<table border=\"1\" class=\"dataframe\">\n",
       "  <thead>\n",
       "    <tr style=\"text-align: right;\">\n",
       "      <th></th>\n",
       "      <th>Models</th>\n",
       "      <th>Accuracy with cross-validation</th>\n",
       "      <th>Accuracy score</th>\n",
       "      <th>Area Under Curve</th>\n",
       "    </tr>\n",
       "  </thead>\n",
       "  <tbody>\n",
       "    <tr>\n",
       "      <th>0</th>\n",
       "      <td>Logistic Regression</td>\n",
       "      <td>0.676923</td>\n",
       "      <td>0.6250</td>\n",
       "      <td>0.756044</td>\n",
       "    </tr>\n",
       "    <tr>\n",
       "      <th>1</th>\n",
       "      <td>Naive Bayes</td>\n",
       "      <td>0.760641</td>\n",
       "      <td>0.7250</td>\n",
       "      <td>0.843464</td>\n",
       "    </tr>\n",
       "    <tr>\n",
       "      <th>2</th>\n",
       "      <td>Support Vector Machine</td>\n",
       "      <td>0.778205</td>\n",
       "      <td>0.7875</td>\n",
       "      <td>0.821473</td>\n",
       "    </tr>\n",
       "    <tr>\n",
       "      <th>3</th>\n",
       "      <td>Decision Tree</td>\n",
       "      <td>0.687372</td>\n",
       "      <td>0.7000</td>\n",
       "      <td>0.665185</td>\n",
       "    </tr>\n",
       "    <tr>\n",
       "      <th>4</th>\n",
       "      <td>Voting Classifier</td>\n",
       "      <td>0.755385</td>\n",
       "      <td>0.7000</td>\n",
       "      <td>nan</td>\n",
       "    </tr>\n",
       "  </tbody>\n",
       "</table>\n",
       "</div>"
      ],
      "text/plain": [
       "                   Models  Accuracy with cross-validation  Accuracy score  \\\n",
       "0     Logistic Regression                        0.676923          0.6250   \n",
       "1             Naive Bayes                        0.760641          0.7250   \n",
       "2  Support Vector Machine                        0.778205          0.7875   \n",
       "3           Decision Tree                        0.687372          0.7000   \n",
       "4       Voting Classifier                        0.755385          0.7000   \n",
       "\n",
       "  Area Under Curve  \n",
       "0         0.756044  \n",
       "1         0.843464  \n",
       "2         0.821473  \n",
       "3         0.665185  \n",
       "4              nan  "
      ]
     },
     "execution_count": 175,
     "metadata": {},
     "output_type": "execute_result"
    }
   ],
   "source": [
    "models = [\"Logistic Regression\" , \"Naive Bayes\" , \"Support Vector Machine\", \"Decision Tree\", \"Voting Classifier\"]\n",
    "accuracycv = [acc_log, acc_nb, acc_svm, acc_tree, acc_vot]\n",
    "accuracy = [acc1_log, acc1_nb, acc1_svm, acc1_tree, acc1_vot]\n",
    "\n",
    "auc = [auc_log, auc_nb, auc_svm, auc_tree, auc_vot]\n",
    "\n",
    "# creating a dictionary\n",
    "dict = {'Models': models , 'Accuracy with cross-validation': accuracycv , 'Accuracy score': accuracy, 'Area Under Curve': auc }\n",
    "\n",
    "df = pd.DataFrame(dict)\n",
    "df"
   ]
  },
  {
   "cell_type": "code",
   "execution_count": 177,
   "metadata": {},
   "outputs": [
    {
     "data": {
      "text/plain": [
       "<matplotlib.legend.Legend at 0x1b9c34650b8>"
      ]
     },
     "execution_count": 177,
     "metadata": {},
     "output_type": "execute_result"
    },
    {
     "data": {
      "image/png": "[encoded data removed]",
      "text/plain": [
       "<Figure size 432x288 with 1 Axes>"
      ]
     },
     "metadata": {
      "needs_background": "light"
     },
     "output_type": "display_data"
    }
   ],
   "source": [
    "sns.set_palette(\"Set1\")\n",
    "\n",
    "df = pd.DataFrame({'Accuracy with cross-validation': accuracycv , 'Accuracy score': accuracy} , index = models)\n",
    "ax = df.plot.bar(rot=45, legend=True);\n",
    "ax.legend( loc=\"lower right\")\n",
    "# rot gives us the rotation of the index"
   ]
  },
  {
   "cell_type": "markdown",
   "metadata": {},
   "source": [
    "We see that SVM performs the best on our dataset with both the accuracy scores almost equal to each other, on the other hand Logistic regression is the worst performer !"
   ]
  },
  {
   "cell_type": "markdown",
   "metadata": {},
   "source": [
    "# 7. final analysis"
   ]
  },
  {
   "cell_type": "markdown",
   "metadata": {},
   "source": [
    "                               Regression Technique => ~ MULTIPLE LINEAR REGRESSION ~\n",
    "\n",
    "                               Classification Technique => ~ SUPPORT VECTOR MACHINE ~"
   ]
  },
  {
   "cell_type": "markdown",
   "metadata": {},
   "source": [
    "# THANK YOU"
   ]
  }
 ],
 "metadata": {
  "kernelspec": {
   "display_name": "Python 3",
   "language": "python",
   "name": "python3"
  },
  "language_info": {
   "codemirror_mode": {
    "name": "ipython",
    "version": 3
   },
   "file_extension": ".py",
   "mimetype": "text/x-python",
   "name": "python",
   "nbconvert_exporter": "python",
   "pygments_lexer": "ipython3",
   "version": "3.7.3"
  }
 },
 "nbformat": 4,
 "nbformat_minor": 2
}
